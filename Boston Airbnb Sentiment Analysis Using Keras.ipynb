{
 "cells": [
  {
   "cell_type": "markdown",
   "metadata": {},
   "source": [
    "**Goal: Using the Kaggle Boston Airbnb dataset, I attempt to use sentiment analysis on written reviews to predict the numerical Airbnb rating. (SPOILER ALERT: It doesn't go very well)**\n",
    "\n",
    "The Airbnb dataset has 3 csv files: \"calendar.csv\", \"listings.csv\", \"reviews.csv\". I first create an LSTM model in Keras and train it on the IMDB sentiment dataset. Then I use the trained model on the comments from \"reviews.csv\" to predict sentiment: either positive (1), or negative (0). Taking the average of these, I see how closely this correlates to the actual ratings, found in \"listings.csv\".\n",
    "\n",
    "A couple things of note: the initial sentiment analysis is a classification task, whereas predicting the rating is really a regression task. My intention is to see how closely we can correlate these.\n",
    "\n",
    "Also, since this is my first Kaggle submission, note that I really like functions. I primarily program in Spyder, so writing functions allows for easy and discrete code chunks, and makes debugging much easier."
   ]
  },
  {
   "cell_type": "code",
   "execution_count": 1,
   "metadata": {},
   "outputs": [
    {
     "name": "stderr",
     "output_type": "stream",
     "text": [
      "Using TensorFlow backend.\n"
     ]
    }
   ],
   "source": [
    "import numpy as np\n",
    "import pandas as pd\n",
    "import os\n",
    "import string\n",
    "from sklearn.model_selection import train_test_split\n",
    "import keras\n",
    "from keras.models import Sequential, save_model, load_model\n",
    "from keras.layers import Embedding, LSTM, Dense, Flatten\n",
    "from keras.preprocessing.text import Tokenizer\n",
    "from keras.preprocessing.sequence import pad_sequences\n",
    "import matplotlib.pyplot as plt\n",
    "import datetime\n",
    "import math"
   ]
  },
  {
   "cell_type": "markdown",
   "metadata": {},
   "source": [
    "First, we load in the IMDB dataset. This is also available via `keras.datasets`, but it comes preprocessed and already encoded there. I want to also work on the preprocessing and cleaning, so I got it directly from the source: http://ai.stanford.edu/~amaas/data/sentiment/ The dataset has 50,000 reviews: 25,000 for the training set and 25,000 for the testing set. Each set is further divided into positive ('pos') and negative ('neg') reviews."
   ]
  },
  {
   "cell_type": "code",
   "execution_count": 2,
   "metadata": {},
   "outputs": [],
   "source": [
    "def clean_imdb(directory):\n",
    "    '''\n",
    "    Returns cleaned dataframe of IMDB reviews with columns ['review', 'sentiment']\n",
    "    '''\n",
    "    sentiment = {'neg': 0, 'pos': 1}\n",
    "    df_columns = ['review', 'sentiment']\n",
    "    reviews_with_sentiment = pd.DataFrame(columns = df_columns)\n",
    "    for i in ('test', 'train'):\n",
    "        for j in ('neg', 'pos'):\n",
    "            file_path = directory + i + '/' + j\n",
    "            for file in os.listdir(file_path):\n",
    "                with open((file_path + '/' + file), 'r',\n",
    "                          encoding = 'utf-8') as text_file:\n",
    "                    text = text_file.read()\n",
    "                review = pd.DataFrame([[text, sentiment[j]]],\n",
    "                                      columns = df_columns)\n",
    "                reviews_with_sentiment = reviews_with_sentiment.\\\n",
    "                                         append(review, ignore_index = True)\n",
    "    return reviews_with_sentiment\n",
    "\n",
    "directory = 'Data/IMDB/'\n",
    "cleaned_imdb = clean_imdb(directory)"
   ]
  },
  {
   "cell_type": "markdown",
   "metadata": {},
   "source": [
    "Let's take a look at what a single review with sentiment looks like:"
   ]
  },
  {
   "cell_type": "code",
   "execution_count": 3,
   "metadata": {},
   "outputs": [
    {
     "data": {
      "text/plain": [
       "review       Man with the Screaming Brain is a story of gre...\n",
       "sentiment                                                    0\n",
       "Name: 13, dtype: object"
      ]
     },
     "execution_count": 3,
     "metadata": {},
     "output_type": "execute_result"
    }
   ],
   "source": [
    "cleaned_imdb.iloc[13]"
   ]
  },
  {
   "cell_type": "markdown",
   "metadata": {},
   "source": [
    "Next we will load in one of the GloVe word embeddings (https://nlp.stanford.edu/projects/glove/). A word embedding represents words as vectors, which allows them to actually be interpreted by a computer. There are several different versions of GloVe depending on how many dimensions - and therefore memory - you would like to use. I used one of the smaller ones, with 50 dimensions and 6 billion tokens."
   ]
  },
  {
   "cell_type": "code",
   "execution_count": 4,
   "metadata": {},
   "outputs": [],
   "source": [
    "def load_GloVe(file_path):\n",
    "    '''\n",
    "    Loads word embedding .txt file\n",
    "    Returns word embedding as dictionary\n",
    "    '''\n",
    "    GloVe_dict = dict()\n",
    "    with open(file_path, encoding = 'utf-8') as GloVe_file:\n",
    "        for line in GloVe_file:\n",
    "            values = line.split()\n",
    "            word = values[0]\n",
    "            coef = np.asarray(values[1:], dtype = 'float32')\n",
    "            GloVe_dict[word] = coef\n",
    "    return GloVe_dict\n",
    "\n",
    "GloVe_file_path = 'Data/glove.6B.50d.txt'\n",
    "embedding_dict = load_GloVe(GloVe_file_path)"
   ]
  },
  {
   "cell_type": "markdown",
   "metadata": {},
   "source": [
    "Let's check out this word embedding a bit. You can see that it includes 400,000 entries of all lower case words. We'll also look at a random slice of the `embedding_dict` keys."
   ]
  },
  {
   "cell_type": "code",
   "execution_count": 5,
   "metadata": {},
   "outputs": [
    {
     "data": {
      "text/plain": [
       "400000"
      ]
     },
     "execution_count": 5,
     "metadata": {},
     "output_type": "execute_result"
    }
   ],
   "source": [
    "len(embedding_dict)"
   ]
  },
  {
   "cell_type": "code",
   "execution_count": 6,
   "metadata": {},
   "outputs": [
    {
     "data": {
      "text/plain": [
       "[]"
      ]
     },
     "execution_count": 6,
     "metadata": {},
     "output_type": "execute_result"
    }
   ],
   "source": [
    "[print(word) for word in list(embedding_dict.keys()) if word != word.lower()]"
   ]
  },
  {
   "cell_type": "code",
   "execution_count": 7,
   "metadata": {},
   "outputs": [
    {
     "data": {
      "text/plain": [
       "['so',\n",
       " 'them',\n",
       " 'what',\n",
       " 'him',\n",
       " 'united',\n",
       " 'during',\n",
       " 'before',\n",
       " 'may',\n",
       " 'since',\n",
       " 'many',\n",
       " 'while',\n",
       " 'where',\n",
       " 'states',\n",
       " 'because',\n",
       " 'now',\n",
       " 'city',\n",
       " 'made',\n",
       " 'like',\n",
       " 'between',\n",
       " 'did',\n",
       " 'just',\n",
       " 'national',\n",
       " 'day',\n",
       " 'country',\n",
       " 'under']"
      ]
     },
     "execution_count": 7,
     "metadata": {},
     "output_type": "execute_result"
    }
   ],
   "source": [
    "list(embedding_dict.keys())[100:125]"
   ]
  },
  {
   "cell_type": "markdown",
   "metadata": {},
   "source": [
    "Let's check out how `'under'`, the last word in our list we just printed, is represented in vector space."
   ]
  },
  {
   "cell_type": "code",
   "execution_count": 8,
   "metadata": {},
   "outputs": [
    {
     "data": {
      "text/plain": [
       "array([ 1.3721e-01, -2.9500e-01, -5.9160e-02, -5.9235e-01,  2.3010e-02,\n",
       "        2.1884e-01, -3.4254e-01, -7.0213e-01, -5.5748e-01, -7.8537e-01,\n",
       "        4.6417e-01,  4.4733e-01, -7.4178e-01, -4.6287e-01,  4.2665e-01,\n",
       "        3.9795e-01, -2.1767e-01,  2.6260e-02, -3.1353e-01,  7.8520e-02,\n",
       "        2.8495e-01,  1.1671e-01,  2.9981e-01, -9.1376e-01, -4.7744e-01,\n",
       "       -1.6573e+00,  7.4029e-03, -1.1224e-01, -1.0604e-01,  2.9894e-01,\n",
       "        3.4634e+00, -2.9341e-01, -7.6777e-01, -3.0120e-01, -3.7192e-03,\n",
       "        2.3122e-01,  4.7334e-01,  1.3078e-01,  5.0225e-02,  1.9911e-01,\n",
       "       -5.0179e-01, -3.4197e-03,  3.8654e-01,  5.7375e-02, -1.0157e+00,\n",
       "       -3.3991e-01, -6.1970e-01, -5.9706e-01, -1.1377e-01, -6.4195e-01],\n",
       "      dtype=float32)"
      ]
     },
     "execution_count": 8,
     "metadata": {},
     "output_type": "execute_result"
    }
   ],
   "source": [
    "embedding_dict['under']"
   ]
  },
  {
   "cell_type": "markdown",
   "metadata": {},
   "source": [
    "Now that we have our reviews with sentiment and our word embedding loaded, it's time to start cleaning up and preprocessing our reviews. The reviews have all sorts of non-alphanumeric and uppercase characters, as shown in this rather eloquent review:"
   ]
  },
  {
   "cell_type": "code",
   "execution_count": 9,
   "metadata": {},
   "outputs": [
    {
     "data": {
      "text/plain": [
       "array(['I was lucky enough to grow up surfing in San Diego (not the biggest waves in the world but it was a hell of childhood, I\\'ll tell you that) and I have seen A LOT of so-called surfer flicks in my life. After watching NORTH SHORE for the first time just now, all I can say is THANK GOD I never saw this as a kid. If I had seen this and mistakenly thought that this was a realistic portrayal of the surf scene, I would sold my board and totally gotten into, I don\\'t know, accounting or something.<br /><br />Seriously, this movie has a as much in common with real surfing as TOP GUN has was real military life. The acting is terrible, the music is worse, the cinematography is iffy at best and OH MY GOD what was Laird Hanilton thinking?! WOW!!! DO NOT SEE THIS MOVIE!!! IT SUCKS!!! If you want a REAL surf flick, see RIDING GIANTS. Hell, watch SURF\\'S UP instead of this. Seriously. Sucks. Sucks bad. Sucks REAL bad. Brah. ;)<br /><br />PS: Had to change my summery from \"WTF?!\" to wtf because, apparently, we are supposed to whisper on this site. NO YELLING!!! (shhhhhh!) ;D',\n",
       "       0], dtype=object)"
      ]
     },
     "execution_count": 9,
     "metadata": {},
     "output_type": "execute_result"
    }
   ],
   "source": [
    "cleaned_imdb.iloc[489].values"
   ]
  },
  {
   "cell_type": "markdown",
   "metadata": {},
   "source": [
    "Next, we will strip off all non-alphanumeric characters. This process takes a while, so I also added a print statement to update us on how far we've gotten. Note that while the `cleaned_imdb` reviews are a `pd.DataFrame`, this function is also used later when we are stripping the Airbnb reviews, which are a `pd.Series`, hence the `if` statement. We first strip off all the punctuation and replace it with a single space. Then we replace all whitespace characters, except actual spaces.\n",
    "\n",
    "It's important to note that this is not always best practice. Consider the following sentence from the review above:\n",
    "\n",
    ">WOW!!! DO NOT SEE THIS MOVIE!!! IT SUCKS!!!\n",
    "\n",
    "You can tell that this carries a much stronger sentiment than just one (or no) exclamation points. There are ways of dealing with punctuation (see [VADER](https://github.com/cjhutto/vaderSentiment) for example), but I did not use them here."
   ]
  },
  {
   "cell_type": "code",
   "execution_count": 10,
   "metadata": {},
   "outputs": [
    {
     "name": "stdout",
     "output_type": "stream",
     "text": [
      "Stripping review: 0 of 50000\n",
      "Stripping review: 5000 of 50000\n",
      "Stripping review: 10000 of 50000\n",
      "Stripping review: 15000 of 50000\n",
      "Stripping review: 20000 of 50000\n",
      "Stripping review: 25000 of 50000\n",
      "Stripping review: 30000 of 50000\n",
      "Stripping review: 35000 of 50000\n",
      "Stripping review: 40000 of 50000\n",
      "Stripping review: 45000 of 50000\n"
     ]
    }
   ],
   "source": [
    "def strip_punctuation_and_whitespace(reviews_df, verbose = True):\n",
    "    '''\n",
    "    Strips all punctuation and whitespace from reviews EXCEPT spaces (i.e. ' ')\n",
    "    Removes \"<br />\"\n",
    "    Returns dataframe of cleaned IMDB reviews\n",
    "    '''\n",
    "    trans_punc = str.maketrans(string.punctuation,\n",
    "                               ' ' * len(string.punctuation))\n",
    "    whitespace_except_space = string.whitespace.replace(' ', '')\n",
    "    trans_white = str.maketrans(whitespace_except_space,\n",
    "                                ' ' * len(whitespace_except_space))\n",
    "    stripped_df = pd.DataFrame(columns = ['review', 'sentiment'])\n",
    "    for i, row in enumerate(reviews_df.values):\n",
    "        if i % 5000 == 0 and verbose == True:\n",
    "            print('Stripping review: ' + str(i) + ' of ' + str(len(reviews_df)))\n",
    "        if type(reviews_df) == pd.DataFrame:\n",
    "            review = row[0]\n",
    "            sentiment = row[1]\n",
    "        elif type(reviews_df) == pd.Series:\n",
    "            review = row\n",
    "            sentiment = np.NaN\n",
    "        try:\n",
    "            review.replace('<br />', ' ')\n",
    "            for trans in [trans_punc, trans_white]:\n",
    "                review = ' '.join(str(review).translate(trans).split())\n",
    "            combined_df = pd.DataFrame([[review, sentiment]],\n",
    "                                       columns = ['review', 'sentiment'])\n",
    "            stripped_df = pd.concat([stripped_df, combined_df],\n",
    "                                    ignore_index = True)\n",
    "        except AttributeError:\n",
    "            continue\n",
    "    return stripped_df\n",
    "\n",
    "stripped_imdb = strip_punctuation_and_whitespace(cleaned_imdb)"
   ]
  },
  {
   "cell_type": "markdown",
   "metadata": {},
   "source": [
    "Now let's take another look at our surfer's review from above:"
   ]
  },
  {
   "cell_type": "code",
   "execution_count": 11,
   "metadata": {},
   "outputs": [
    {
     "data": {
      "text/plain": [
       "array(['I was lucky enough to grow up surfing in San Diego not the biggest waves in the world but it was a hell of childhood I ll tell you that and I have seen A LOT of so called surfer flicks in my life After watching NORTH SHORE for the first time just now all I can say is THANK GOD I never saw this as a kid If I had seen this and mistakenly thought that this was a realistic portrayal of the surf scene I would sold my board and totally gotten into I don t know accounting or something br br Seriously this movie has a as much in common with real surfing as TOP GUN has was real military life The acting is terrible the music is worse the cinematography is iffy at best and OH MY GOD what was Laird Hanilton thinking WOW DO NOT SEE THIS MOVIE IT SUCKS If you want a REAL surf flick see RIDING GIANTS Hell watch SURF S UP instead of this Seriously Sucks Sucks bad Sucks REAL bad Brah br br PS Had to change my summery from WTF to wtf because apparently we are supposed to whisper on this site NO YELLING shhhhhh D',\n",
       "       0], dtype=object)"
      ]
     },
     "execution_count": 11,
     "metadata": {},
     "output_type": "execute_result"
    }
   ],
   "source": [
    "stripped_imdb.iloc[489].values"
   ]
  },
  {
   "cell_type": "markdown",
   "metadata": {},
   "source": [
    "We are going to need to know how many words we want to include in our tokenizer, so let's see how many words are in each review."
   ]
  },
  {
   "cell_type": "code",
   "execution_count": 12,
   "metadata": {},
   "outputs": [],
   "source": [
    "def get_length_all_reviews(sentences):\n",
    "    '''\n",
    "    Returns a list of length of all reviews\n",
    "    Used for plotting histogram\n",
    "    '''\n",
    "    lengths = [len(i.split(' ')) for i in sentences]\n",
    "    return lengths\n",
    "\n",
    "imdb_lengths = get_length_all_reviews(stripped_imdb['review'])"
   ]
  },
  {
   "cell_type": "code",
   "execution_count": 13,
   "metadata": {},
   "outputs": [
    {
     "data": {
      "text/plain": [
       "2525"
      ]
     },
     "execution_count": 13,
     "metadata": {},
     "output_type": "execute_result"
    }
   ],
   "source": [
    "max(imdb_lengths)"
   ]
  },
  {
   "cell_type": "markdown",
   "metadata": {},
   "source": [
    "Is that a lot of words or not? Let's plot a histogram and see where the majority of reviews are in terms of length. We can tell from the first plot below that 2525 is an outlier, so we also plot up to 1200 to get a better view."
   ]
  },
  {
   "cell_type": "code",
   "execution_count": 14,
   "metadata": {},
   "outputs": [
    {
     "data": {
      "image/png": "[encoded data removed]",
      "text/plain": [
       "<Figure size 432x288 with 1 Axes>"
      ]
     },
     "metadata": {
      "needs_background": "light"
     },
     "output_type": "display_data"
    },
    {
     "data": {
      "image/png": "[encoded data removed]",
      "text/plain": [
       "<Figure size 432x288 with 1 Axes>"
      ]
     },
     "metadata": {
      "needs_background": "light"
     },
     "output_type": "display_data"
    }
   ],
   "source": [
    "def plot_histogram(sentence_lengths, x_dim):\n",
    "    '''\n",
    "    Plots histogram of length of all sentences\n",
    "    '''\n",
    "    plt.hist(sentence_lengths, 50, [0, x_dim])\n",
    "    plt.xlabel('Review length (words)')\n",
    "    plt.ylabel('Frequency')\n",
    "    plt.title('Review Lengths (Words per review)')\n",
    "    plt.show()\n",
    "\n",
    "plot_histogram(imdb_lengths, 2600)\n",
    "plot_histogram(imdb_lengths, 1200)"
   ]
  },
  {
   "cell_type": "markdown",
   "metadata": {},
   "source": [
    "From these plots, it's obvious the 2525 was an outlier, so we will choose a maximum sequence length of 1000 for our tokenizer. Additionally, we will use a `vocabulary_length` of 10,000. By setting `lower = True` within the `Tokenizer` object, we ensure that all words fed to the tokenizer are converted to lowercase. In practice, this may not always be the best idea. Consider the same sentence we looked at above:\n",
    "\n",
    ">WOW!!! DO NOT SEE THIS MOVIE!!! IT SUCKS!!!\n",
    "\n",
    "Once again, this clearly carries a stronger sentiment than if it had been written in all lowercase. However, the GloVe model we are using only recognizes lowercase words, so we force all words into lowercase."
   ]
  },
  {
   "cell_type": "code",
   "execution_count": 15,
   "metadata": {},
   "outputs": [],
   "source": [
    "def create_tokenizer(max_words_to_keep, words_review_df):\n",
    "    '''\n",
    "    Creates tokenizer\n",
    "    Returns a tokenizer object and reviews converted to integers\n",
    "    '''\n",
    "    tokenizer = Tokenizer(num_words = max_words_to_keep,\n",
    "                          lower = True,\n",
    "                          split = ' ')\n",
    "    tokenizer.fit_on_texts(words_review_df['review'].values)\n",
    "    return tokenizer, \\\n",
    "           tokenizer.texts_to_sequences(words_review_df['review'].values)\n",
    "\n",
    "imdb_sequence_length = 1000\n",
    "vocabulary_length = 10000\n",
    "tokenizer, integer_reviews = create_tokenizer(vocabulary_length, stripped_imdb)"
   ]
  },
  {
   "cell_type": "markdown",
   "metadata": {},
   "source": [
    "And now looking at the same surfer review, converted to integers:"
   ]
  },
  {
   "cell_type": "code",
   "execution_count": 16,
   "metadata": {},
   "outputs": [
    {
     "data": {
      "text/plain": [
       "[10,\n",
       " 14,\n",
       " 1986,\n",
       " 195,\n",
       " 5,\n",
       " 2106,\n",
       " 56,\n",
       " 4961,\n",
       " 9,\n",
       " 2872,\n",
       " 9169,\n",
       " 24,\n",
       " 1,\n",
       " 1123,\n",
       " 4837,\n",
       " 9,\n",
       " 1,\n",
       " 177,\n",
       " 19,\n",
       " 8,\n",
       " 14,\n",
       " 3,\n",
       " 585,\n",
       " 4,\n",
       " 1649,\n",
       " 10,\n",
       " 233,\n",
       " 379,\n",
       " 21,\n",
       " 12,\n",
       " 2,\n",
       " 10,\n",
       " 28,\n",
       " 109,\n",
       " 3,\n",
       " 172,\n",
       " 4,\n",
       " 37,\n",
       " 438,\n",
       " 1461,\n",
       " 9,\n",
       " 59,\n",
       " 114,\n",
       " 101,\n",
       " 150,\n",
       " 2169,\n",
       " 5453,\n",
       " 17,\n",
       " 1,\n",
       " 88,\n",
       " 58,\n",
       " 42,\n",
       " 148,\n",
       " 31,\n",
       " 10,\n",
       " 51,\n",
       " 133,\n",
       " 6,\n",
       " 1341,\n",
       " 503,\n",
       " 10,\n",
       " 113,\n",
       " 211,\n",
       " 11,\n",
       " 15,\n",
       " 3,\n",
       " 524,\n",
       " 46,\n",
       " 10,\n",
       " 68,\n",
       " 109,\n",
       " 11,\n",
       " 2,\n",
       " 193,\n",
       " 12,\n",
       " 11,\n",
       " 14,\n",
       " 3,\n",
       " 800,\n",
       " 1106,\n",
       " 4,\n",
       " 1,\n",
       " 7166,\n",
       " 131,\n",
       " 10,\n",
       " 61,\n",
       " 2990,\n",
       " 59,\n",
       " 1786,\n",
       " 2,\n",
       " 459,\n",
       " 1950,\n",
       " 84,\n",
       " 10,\n",
       " 89,\n",
       " 22,\n",
       " 120,\n",
       " 41,\n",
       " 139,\n",
       " 7,\n",
       " 7,\n",
       " 611,\n",
       " 11,\n",
       " 16,\n",
       " 47,\n",
       " 3,\n",
       " 15,\n",
       " 74,\n",
       " 9,\n",
       " 1104,\n",
       " 18,\n",
       " 146,\n",
       " 4961,\n",
       " 15,\n",
       " 344,\n",
       " 987,\n",
       " 47,\n",
       " 14,\n",
       " 146,\n",
       " 1279,\n",
       " 114,\n",
       " 1,\n",
       " 115,\n",
       " 6,\n",
       " 380,\n",
       " 1,\n",
       " 207,\n",
       " 6,\n",
       " 432,\n",
       " 1,\n",
       " 628,\n",
       " 6,\n",
       " 32,\n",
       " 119,\n",
       " 2,\n",
       " 425,\n",
       " 59,\n",
       " 503,\n",
       " 48,\n",
       " 14,\n",
       " 535,\n",
       " 1315,\n",
       " 79,\n",
       " 24,\n",
       " 66,\n",
       " 11,\n",
       " 16,\n",
       " 8,\n",
       " 1685,\n",
       " 46,\n",
       " 21,\n",
       " 182,\n",
       " 3,\n",
       " 146,\n",
       " 7166,\n",
       " 489,\n",
       " 66,\n",
       " 3093,\n",
       " 6999,\n",
       " 585,\n",
       " 104,\n",
       " 7166,\n",
       " 13,\n",
       " 56,\n",
       " 303,\n",
       " 4,\n",
       " 11,\n",
       " 611,\n",
       " 1685,\n",
       " 1685,\n",
       " 75,\n",
       " 1685,\n",
       " 146,\n",
       " 75,\n",
       " 7,\n",
       " 7,\n",
       " 6049,\n",
       " 68,\n",
       " 5,\n",
       " 660,\n",
       " 59,\n",
       " 38,\n",
       " 6219,\n",
       " 5,\n",
       " 6219,\n",
       " 85,\n",
       " 677,\n",
       " 71,\n",
       " 26,\n",
       " 446,\n",
       " 5,\n",
       " 23,\n",
       " 11,\n",
       " 2053,\n",
       " 57,\n",
       " 4482,\n",
       " 226]"
      ]
     },
     "execution_count": 16,
     "metadata": {},
     "output_type": "execute_result"
    }
   ],
   "source": [
    "integer_reviews[489]"
   ]
  },
  {
   "cell_type": "markdown",
   "metadata": {},
   "source": [
    "However, the reviews are all still different lengths:"
   ]
  },
  {
   "cell_type": "code",
   "execution_count": 17,
   "metadata": {},
   "outputs": [
    {
     "name": "stdout",
     "output_type": "stream",
     "text": [
      "101\n",
      "120\n"
     ]
    }
   ],
   "source": [
    "print(len(integer_reviews[100]))\n",
    "print(len(integer_reviews[200]))"
   ]
  },
  {
   "cell_type": "markdown",
   "metadata": {},
   "source": [
    "We are going to need to ensure all the reviews are the same length when we ultimately feed it to our LSTM model. There are primarily 2 ways of doing this: pad `0` at the front (`pre`) of your sequence or at the end (`post`) of your sequence. Since an LSTM model forgets a little bit of it's training during each step, we will pad the `0`'s at the front of our sequence, ensuring most of the information is carried through the model."
   ]
  },
  {
   "cell_type": "code",
   "execution_count": 18,
   "metadata": {},
   "outputs": [],
   "source": [
    "def pad_zeros(encoded_reviews, padding_length, padding = 'pre'):\n",
    "    '''\n",
    "    Pads integer reviews either left ('pre') or right ('post')\n",
    "    '''\n",
    "    return pad_sequences(encoded_reviews,\n",
    "                         maxlen = padding_length,\n",
    "                         padding = padding)\n",
    "\n",
    "padded_reviews = pad_zeros(integer_reviews,\n",
    "                           imdb_sequence_length,\n",
    "                           padding = 'pre')"
   ]
  },
  {
   "cell_type": "markdown",
   "metadata": {},
   "source": [
    "Once again, same review, now with `0` padding at the start of the review"
   ]
  },
  {
   "cell_type": "code",
   "execution_count": 19,
   "metadata": {},
   "outputs": [
    {
     "data": {
      "text/plain": [
       "array([   0,    0,    0,    0,    0,    0,    0,    0,    0,    0,    0,\n",
       "          0,    0,    0,    0,    0,    0,    0,    0,    0,    0,    0,\n",
       "          0,    0,    0,    0,    0,    0,    0,    0,    0,    0,    0,\n",
       "          0,    0,    0,    0,    0,    0,    0,    0,    0,    0,    0,\n",
       "          0,    0,    0,    0,    0,    0,    0,    0,    0,    0,    0,\n",
       "          0,    0,    0,    0,    0,    0,    0,    0,    0,    0,    0,\n",
       "          0,    0,    0,    0,    0,    0,    0,    0,    0,    0,    0,\n",
       "          0,    0,    0,    0,    0,    0,    0,    0,    0,    0,    0,\n",
       "          0,    0,    0,    0,    0,    0,    0,    0,    0,    0,    0,\n",
       "          0,    0,    0,    0,    0,    0,    0,    0,    0,    0,    0,\n",
       "          0,    0,    0,    0,    0,    0,    0,    0,    0,    0,    0,\n",
       "          0,    0,    0,    0,    0,    0,    0,    0,    0,    0,    0,\n",
       "          0,    0,    0,    0,    0,    0,    0,    0,    0,    0,    0,\n",
       "          0,    0,    0,    0,    0,    0,    0,    0,    0,    0,    0,\n",
       "          0,    0,    0,    0,    0,    0,    0,    0,    0,    0,    0,\n",
       "          0,    0,    0,    0,    0,    0,    0,    0,    0,    0,    0,\n",
       "          0,    0,    0,    0,    0,    0,    0,    0,    0,    0,    0,\n",
       "          0,    0,    0,    0,    0,    0,    0,    0,    0,    0,    0,\n",
       "          0,    0,    0,    0,    0,    0,    0,    0,    0,    0,    0,\n",
       "          0,    0,    0,    0,    0,    0,    0,    0,    0,    0,    0,\n",
       "          0,    0,    0,    0,    0,    0,    0,    0,    0,    0,    0,\n",
       "          0,    0,    0,    0,    0,    0,    0,    0,    0,    0,    0,\n",
       "          0,    0,    0,    0,    0,    0,    0,    0,    0,    0,    0,\n",
       "          0,    0,    0,    0,    0,    0,    0,    0,    0,    0,    0,\n",
       "          0,    0,    0,    0,    0,    0,    0,    0,    0,    0,    0,\n",
       "          0,    0,    0,    0,    0,    0,    0,    0,    0,    0,    0,\n",
       "          0,    0,    0,    0,    0,    0,    0,    0,    0,    0,    0,\n",
       "          0,    0,    0,    0,    0,    0,    0,    0,    0,    0,    0,\n",
       "          0,    0,    0,    0,    0,    0,    0,    0,    0,    0,    0,\n",
       "          0,    0,    0,    0,    0,    0,    0,    0,    0,    0,    0,\n",
       "          0,    0,    0,    0,    0,    0,    0,    0,    0,    0,    0,\n",
       "          0,    0,    0,    0,    0,    0,    0,    0,    0,    0,    0,\n",
       "          0,    0,    0,    0,    0,    0,    0,    0,    0,    0,    0,\n",
       "          0,    0,    0,    0,    0,    0,    0,    0,    0,    0,    0,\n",
       "          0,    0,    0,    0,    0,    0,    0,    0,    0,    0,    0,\n",
       "          0,    0,    0,    0,    0,    0,    0,    0,    0,    0,    0,\n",
       "          0,    0,    0,    0,    0,    0,    0,    0,    0,    0,    0,\n",
       "          0,    0,    0,    0,    0,    0,    0,    0,    0,    0,    0,\n",
       "          0,    0,    0,    0,    0,    0,    0,    0,    0,    0,    0,\n",
       "          0,    0,    0,    0,    0,    0,    0,    0,    0,    0,    0,\n",
       "          0,    0,    0,    0,    0,    0,    0,    0,    0,    0,    0,\n",
       "          0,    0,    0,    0,    0,    0,    0,    0,    0,    0,    0,\n",
       "          0,    0,    0,    0,    0,    0,    0,    0,    0,    0,    0,\n",
       "          0,    0,    0,    0,    0,    0,    0,    0,    0,    0,    0,\n",
       "          0,    0,    0,    0,    0,    0,    0,    0,    0,    0,    0,\n",
       "          0,    0,    0,    0,    0,    0,    0,    0,    0,    0,    0,\n",
       "          0,    0,    0,    0,    0,    0,    0,    0,    0,    0,    0,\n",
       "          0,    0,    0,    0,    0,    0,    0,    0,    0,    0,    0,\n",
       "          0,    0,    0,    0,    0,    0,    0,    0,    0,    0,    0,\n",
       "          0,    0,    0,    0,    0,    0,    0,    0,    0,    0,    0,\n",
       "          0,    0,    0,    0,    0,    0,    0,    0,    0,    0,    0,\n",
       "          0,    0,    0,    0,    0,    0,    0,    0,    0,    0,    0,\n",
       "          0,    0,    0,    0,    0,    0,    0,    0,    0,    0,    0,\n",
       "          0,    0,    0,    0,    0,    0,    0,    0,    0,    0,    0,\n",
       "          0,    0,    0,    0,    0,    0,    0,    0,    0,    0,    0,\n",
       "          0,    0,    0,    0,    0,    0,    0,    0,    0,    0,    0,\n",
       "          0,    0,    0,    0,    0,    0,    0,    0,    0,    0,    0,\n",
       "          0,    0,    0,    0,    0,    0,    0,    0,    0,    0,    0,\n",
       "          0,    0,    0,    0,    0,    0,    0,    0,    0,    0,    0,\n",
       "          0,    0,    0,    0,    0,    0,    0,    0,    0,    0,    0,\n",
       "          0,    0,    0,    0,    0,    0,    0,    0,    0,    0,    0,\n",
       "          0,    0,    0,    0,    0,    0,    0,    0,    0,    0,    0,\n",
       "          0,    0,    0,    0,    0,    0,    0,    0,    0,    0,    0,\n",
       "          0,    0,    0,    0,    0,    0,    0,    0,    0,    0,    0,\n",
       "          0,    0,    0,    0,    0,    0,    0,    0,    0,    0,    0,\n",
       "          0,    0,    0,    0,    0,    0,    0,    0,    0,    0,    0,\n",
       "          0,    0,    0,    0,    0,    0,    0,    0,    0,    0,    0,\n",
       "          0,    0,    0,    0,    0,    0,    0,    0,    0,    0,    0,\n",
       "          0,    0,    0,    0,    0,    0,    0,    0,    0,    0,    0,\n",
       "          0,    0,    0,    0,    0,    0,    0,    0,    0,    0,    0,\n",
       "          0,    0,    0,    0,    0,    0,    0,    0,    0,    0,    0,\n",
       "          0,    0,    0,    0,    0,    0,    0,    0,    0,    0,    0,\n",
       "          0,    0,    0,    0,    0,    0,    0,    0,    0,    0,    0,\n",
       "         10,   14, 1986,  195,    5, 2106,   56, 4961,    9, 2872, 9169,\n",
       "         24,    1, 1123, 4837,    9,    1,  177,   19,    8,   14,    3,\n",
       "        585,    4, 1649,   10,  233,  379,   21,   12,    2,   10,   28,\n",
       "        109,    3,  172,    4,   37,  438, 1461,    9,   59,  114,  101,\n",
       "        150, 2169, 5453,   17,    1,   88,   58,   42,  148,   31,   10,\n",
       "         51,  133,    6, 1341,  503,   10,  113,  211,   11,   15,    3,\n",
       "        524,   46,   10,   68,  109,   11,    2,  193,   12,   11,   14,\n",
       "          3,  800, 1106,    4,    1, 7166,  131,   10,   61, 2990,   59,\n",
       "       1786,    2,  459, 1950,   84,   10,   89,   22,  120,   41,  139,\n",
       "          7,    7,  611,   11,   16,   47,    3,   15,   74,    9, 1104,\n",
       "         18,  146, 4961,   15,  344,  987,   47,   14,  146, 1279,  114,\n",
       "          1,  115,    6,  380,    1,  207,    6,  432,    1,  628,    6,\n",
       "         32,  119,    2,  425,   59,  503,   48,   14,  535, 1315,   79,\n",
       "         24,   66,   11,   16,    8, 1685,   46,   21,  182,    3,  146,\n",
       "       7166,  489,   66, 3093, 6999,  585,  104, 7166,   13,   56,  303,\n",
       "          4,   11,  611, 1685, 1685,   75, 1685,  146,   75,    7,    7,\n",
       "       6049,   68,    5,  660,   59,   38, 6219,    5, 6219,   85,  677,\n",
       "         71,   26,  446,    5,   23,   11, 2053,   57, 4482,  226],\n",
       "      dtype=int32)"
      ]
     },
     "execution_count": 19,
     "metadata": {},
     "output_type": "execute_result"
    }
   ],
   "source": [
    "padded_reviews[489]"
   ]
  },
  {
   "cell_type": "markdown",
   "metadata": {},
   "source": [
    "We are finally ready to start training out LSTM model. Before we do that, let's recap what we've done to get us this far:\n",
    "\n",
    "* We loaded in our IMDB dataset, which has 25,000 positive and 25,000 negative reviews. Each of the reviews is assigned their respective sentiment (negative = 0, positive = 1). We loaded these all into one dataframe, `cleaned_imdb`.\n",
    "* We loaded our GloVe model as `embedding_dict`, which has 400,000 lowercase words. Each of these words is mapped to a 50-dimensional vector space.\n",
    "* We stripped all punctuation and extra whitespace from the IMDB reviews and created the `stripped_imdb` dataframe. This allows us to actually represent the words within the reviews in the vector space given by the GloVe model.\n",
    "* By plotting a histogram of the length of each of the IMDB reviews, we were able to determine an appropriate maximum length to feed our `tokenizer`. This prevents it from having to carry around a bunch of `0`'s just to match the length of one very wordy review.\n",
    "* We converted the words in each review to integers and captured them in the list `integer_reviews`. Computers like numbers a lot more than words, so this will allow our model to actually train on the reviews.\n",
    "* Finally, we padded `0`'s at the beginning of every review - up to our `imdb_sequence_length` of 1000 - determined from our histogram plot and created the array `padded_reviews`"
   ]
  },
  {
   "cell_type": "markdown",
   "metadata": {},
   "source": [
    "Great! Now we can start creating and training our LSTM model. First, we will need to split our `padded_reviews` array into training and testing sets. We split it right in half, but you can adjust this to have more or less samples captured in your testing set. We've also set the `random_state` for reproducibility."
   ]
  },
  {
   "cell_type": "code",
   "execution_count": 20,
   "metadata": {},
   "outputs": [],
   "source": [
    "split = 0.5\n",
    "X_train, X_test, y_train, y_test = train_test_split(padded_reviews,\n",
    "                                                    stripped_imdb['sentiment'],\n",
    "                                                    test_size = split,\n",
    "                                                    random_state = 42)"
   ]
  },
  {
   "cell_type": "code",
   "execution_count": 21,
   "metadata": {},
   "outputs": [
    {
     "name": "stdout",
     "output_type": "stream",
     "text": [
      "_________________________________________________________________\n",
      "Layer (type)                 Output Shape              Param #   \n",
      "=================================================================\n",
      "embedding_1 (Embedding)      (None, None, 32)          320000    \n",
      "_________________________________________________________________\n",
      "lstm_1 (LSTM)                (None, 32)                8320      \n",
      "_________________________________________________________________\n",
      "dense_1 (Dense)              (None, 1)                 33        \n",
      "=================================================================\n",
      "Total params: 328,353\n",
      "Trainable params: 328,353\n",
      "Non-trainable params: 0\n",
      "_________________________________________________________________\n",
      "None\n"
     ]
    }
   ],
   "source": [
    "def create_LSTM_model(vocab_length, in_length, opt = 'Adam',\n",
    "                      learning_rate = 0.001):\n",
    "    '''\n",
    "    Returns 1-layer LSTM model\n",
    "    '''\n",
    "    model = Sequential()\n",
    "    model.add(Embedding(vocab_length, 32))\n",
    "    model.add(LSTM(32))\n",
    "    model.add(Dense(1, activation = 'sigmoid'))\n",
    "    optimizer = getattr(keras.optimizers, opt)(lr = learning_rate)\n",
    "    model.compile(loss = 'binary_crossentropy',\n",
    "                  optimizer = optimizer,\n",
    "                  metrics = ['accuracy'])\n",
    "    return model\n",
    "\n",
    "LSTM_model = create_LSTM_model(vocabulary_length,\n",
    "                               imdb_sequence_length,\n",
    "                               opt = 'Adam',\n",
    "                               learning_rate = 0.001)\n",
    "print(LSTM_model.summary())"
   ]
  },
  {
   "cell_type": "markdown",
   "metadata": {},
   "source": [
    "This is about as simple an LSTM model as one can make, but before we try to complicate matters, let's see how well it performs. We will save the training performance in `LSTM_history` to reference after training."
   ]
  },
  {
   "cell_type": "code",
   "execution_count": 22,
   "metadata": {},
   "outputs": [
    {
     "name": "stdout",
     "output_type": "stream",
     "text": [
      "Train on 25000 samples, validate on 25000 samples\n",
      "Epoch 1/10\n",
      "25000/25000 [==============================] - 1252s 50ms/step - loss: 0.6890 - acc: 0.5720 - val_loss: 0.6783 - val_acc: 0.6598\n",
      "Epoch 2/10\n",
      "25000/25000 [==============================] - 1240s 50ms/step - loss: 0.5796 - acc: 0.7380 - val_loss: 0.4618 - val_acc: 0.8138\n",
      "Epoch 3/10\n",
      "25000/25000 [==============================] - 1201s 48ms/step - loss: 0.3935 - acc: 0.8437 - val_loss: 0.3802 - val_acc: 0.8354\n",
      "Epoch 4/10\n",
      "25000/25000 [==============================] - 1214s 49ms/step - loss: 0.3006 - acc: 0.8855 - val_loss: 0.3147 - val_acc: 0.8723\n",
      "Epoch 5/10\n",
      "25000/25000 [==============================] - 1213s 49ms/step - loss: 0.2257 - acc: 0.9182 - val_loss: 0.3119 - val_acc: 0.8794\n",
      "Epoch 6/10\n",
      "25000/25000 [==============================] - 1187s 47ms/step - loss: 0.1854 - acc: 0.9369 - val_loss: 0.3039 - val_acc: 0.8834\n",
      "Epoch 7/10\n",
      "25000/25000 [==============================] - 1195s 48ms/step - loss: 0.1637 - acc: 0.9482 - val_loss: 0.3126 - val_acc: 0.8840\n",
      "Epoch 8/10\n",
      "25000/25000 [==============================] - 1209s 48ms/step - loss: 0.1324 - acc: 0.9596 - val_loss: 0.3106 - val_acc: 0.8852\n",
      "Epoch 9/10\n",
      "25000/25000 [==============================] - 1216s 49ms/step - loss: 0.1131 - acc: 0.9688 - val_loss: 0.3209 - val_acc: 0.8842\n",
      "Epoch 10/10\n",
      "25000/25000 [==============================] - 1224s 49ms/step - loss: 0.1002 - acc: 0.9739 - val_loss: 0.3294 - val_acc: 0.8817\n"
     ]
    }
   ],
   "source": [
    "ep = 10\n",
    "LSTM_history = LSTM_model.fit(X_train, y_train,\n",
    "                              validation_data = (X_test, y_test),\n",
    "                              batch_size = 1000, epochs = ep, verbose = 1)"
   ]
  },
  {
   "cell_type": "code",
   "execution_count": 23,
   "metadata": {},
   "outputs": [
    {
     "data": {
      "image/png": "[encoded data removed]",
      "text/plain": [
       "<Figure size 432x288 with 1 Axes>"
      ]
     },
     "metadata": {
      "needs_background": "light"
     },
     "output_type": "display_data"
    }
   ],
   "source": [
    "plt.plot(range(10), LSTM_history.history['val_acc'], '--o')\n",
    "plt.xlabel('Epochs')\n",
    "plt.ylabel('Accuracy')\n",
    "plt.title('Validation Accuracy After {} Epochs'.format(ep))\n",
    "plt.show()"
   ]
  },
  {
   "cell_type": "markdown",
   "metadata": {},
   "source": [
    "Looks like we hit our maximum accuracy of ~88% after only 4 epochs! This is without any optimization of hyperparameters whatsoever, and one of the simplest LSTM models you can put together. Since this is only an exploration to see if we can correlate sentiment with actual ratings, this accuracy is sufficient for now. We could easily go back and alter any of the hyperparameters, add more layers to the model, etc. if we so desire."
   ]
  },
  {
   "cell_type": "markdown",
   "metadata": {},
   "source": [
    "Now, finally on to the fun part! Let's see how well this model can predict the sentiment on the Airbnb reviews. First, we'll load in the datasets."
   ]
  },
  {
   "cell_type": "code",
   "execution_count": 25,
   "metadata": {},
   "outputs": [],
   "source": [
    "def load_airbnb_datasets():\n",
    "    '''\n",
    "    Run this if you need to load in the Boston Airbnb datasets\n",
    "    '''\n",
    "    df_calendar = pd.read_csv('./Data/calendar.csv')\n",
    "    df_listings = pd.read_csv('./Data/listings.csv')\n",
    "    df_reviews = pd.read_csv('./Data/reviews.csv')\n",
    "    return df_calendar, df_listings, df_reviews\n",
    "\n",
    "df_calendar, df_listings, df_reviews = load_airbnb_datasets()"
   ]
  },
  {
   "cell_type": "markdown",
   "metadata": {},
   "source": [
    "Let's see how these are broken down."
   ]
  },
  {
   "cell_type": "code",
   "execution_count": 26,
   "metadata": {},
   "outputs": [
    {
     "data": {
      "text/plain": [
       "listing_id                                                 1178162\n",
       "id                                                         8414572\n",
       "date                                                    2013-10-29\n",
       "reviewer_id                                                 478275\n",
       "reviewer_name                                                  Kat\n",
       "comments         Well sized room for two people with the basic ...\n",
       "Name: 13, dtype: object"
      ]
     },
     "execution_count": 26,
     "metadata": {},
     "output_type": "execute_result"
    }
   ],
   "source": [
    "df_reviews.iloc[13]"
   ]
  },
  {
   "cell_type": "markdown",
   "metadata": {},
   "source": [
    "Ok, so `df_reviews` has both a `listing_id` and a review in the `comments` column. We will use these to match the reviews up to the listings. Let's see how `df_listings` is setup."
   ]
  },
  {
   "cell_type": "code",
   "execution_count": 27,
   "metadata": {},
   "outputs": [
    {
     "data": {
      "text/plain": [
       "id                                                                           13547301\n",
       "listing_url                                     https://www.airbnb.com/rooms/13547301\n",
       "scrape_id                                                              20160906204935\n",
       "last_scraped                                                               2016-09-07\n",
       "name                                                    2 Bedroom Apartment in Boston\n",
       "summary                             My place is close to Public Transportation. Th...\n",
       "space                                                                             NaN\n",
       "description                         My place is close to Public Transportation. Th...\n",
       "experiences_offered                                                              none\n",
       "neighborhood_overview                                                             NaN\n",
       "notes                                                                             NaN\n",
       "transit                                                                           NaN\n",
       "access                                                                            NaN\n",
       "interaction                                                                       NaN\n",
       "house_rules                                                                       NaN\n",
       "thumbnail_url                       https://a2.muscache.com/im/pictures/5ea5e31f-8...\n",
       "medium_url                          https://a2.muscache.com/im/pictures/5ea5e31f-8...\n",
       "picture_url                         https://a2.muscache.com/im/pictures/5ea5e31f-8...\n",
       "xl_picture_url                      https://a2.muscache.com/im/pictures/5ea5e31f-8...\n",
       "host_id                                                                      57402911\n",
       "host_url                                   https://www.airbnb.com/users/show/57402911\n",
       "host_name                                                                     Georgia\n",
       "host_since                                                                 2016-02-04\n",
       "host_location                                    Boston, Massachusetts, United States\n",
       "host_about                                                     A life-long Bostonian.\n",
       "host_response_time                                                     within an hour\n",
       "host_response_rate                                                               100%\n",
       "host_acceptance_rate                                                              97%\n",
       "host_is_superhost                                                                   f\n",
       "host_thumbnail_url                  https://a2.muscache.com/im/pictures/dad297dc-5...\n",
       "                                                          ...                        \n",
       "guests_included                                                                     5\n",
       "extra_people                                                                   $30.00\n",
       "minimum_nights                                                                      2\n",
       "maximum_nights                                                                     21\n",
       "calendar_updated                                                            yesterday\n",
       "has_availability                                                                  NaN\n",
       "availability_30                                                                     8\n",
       "availability_60                                                                    17\n",
       "availability_90                                                                    39\n",
       "availability_365                                                                  129\n",
       "calendar_last_scraped                                                      2016-09-06\n",
       "number_of_reviews                                                                  12\n",
       "first_review                                                               2016-06-27\n",
       "last_review                                                                2016-09-03\n",
       "review_scores_rating                                                               97\n",
       "review_scores_accuracy                                                             10\n",
       "review_scores_cleanliness                                                          10\n",
       "review_scores_checkin                                                              10\n",
       "review_scores_communication                                                        10\n",
       "review_scores_location                                                              9\n",
       "review_scores_value                                                                10\n",
       "requires_license                                                                    f\n",
       "license                                                                           NaN\n",
       "jurisdiction_names                                                                NaN\n",
       "instant_bookable                                                                    f\n",
       "cancellation_policy                                                          moderate\n",
       "require_guest_profile_picture                                                       f\n",
       "require_guest_phone_verification                                                    f\n",
       "calculated_host_listings_count                                                      1\n",
       "reviews_per_month                                                                4.93\n",
       "Name: 13, Length: 95, dtype: object"
      ]
     },
     "execution_count": 27,
     "metadata": {},
     "output_type": "execute_result"
    }
   ],
   "source": [
    "df_listings.iloc[13]"
   ]
  },
  {
   "cell_type": "markdown",
   "metadata": {},
   "source": [
    "The listings have a ton more information, but all we are going to focus on for this exploration are the `id` and `review_scores_rating`. By matching up the `listing_id` in `df_reviews` with the `id` in `df_listings`, we can try to correlate an average sentiment calculated from our model with the `review_scores_rating`."
   ]
  },
  {
   "cell_type": "markdown",
   "metadata": {},
   "source": [
    "First, let's see how many reviews a single listing might have. We need to have some threshold so that we can try to apply the central limit theorem."
   ]
  },
  {
   "cell_type": "code",
   "execution_count": 28,
   "metadata": {},
   "outputs": [
    {
     "name": "stdout",
     "output_type": "stream",
     "text": [
      "Minimum number of reviews: 1\n",
      "Maximum number of reviews: 404\n"
     ]
    }
   ],
   "source": [
    "ids, counts = np.unique(df_reviews['listing_id'], return_counts = True)\n",
    "print('Minimum number of reviews: ' + str(min(counts)))\n",
    "print('Maximum number of reviews: ' + str(max(counts)))"
   ]
  },
  {
   "cell_type": "markdown",
   "metadata": {},
   "source": [
    "Ok...so this is a pretty big range. In theory, we could make a `for` loop, run from 1 to 404 and see when (if?) we approach a good approximation. For now, let's make a somewhat arbitrary cutoff and only look at listings that have at least 100 reviews. If we want, we can come back later and experiment with this."
   ]
  },
  {
   "cell_type": "code",
   "execution_count": 29,
   "metadata": {},
   "outputs": [
    {
     "name": "stdout",
     "output_type": "stream",
     "text": [
      "Number of listings with greater than 100 reviews: 133\n",
      "\n",
      "Indices of listings with greater than 100 reviews:\n",
      "[  24   29   30   39   40   46   56   58   60   66   69   72   78   80\n",
      "   83   94   95   96   97   99  101  102  110  116  119  126  128  134\n",
      "  135  137  142  144  146  153  154  166  181  185  189  200  203  204\n",
      "  222  231  239  240  242  245  246  248  249  252  256  257  280  282\n",
      "  284  296  307  311  312  315  319  322  327  330  334  343  360  361\n",
      "  363  368  378  379  380  389  400  417  426  434  446  479  482  491\n",
      "  493  514  520  535  536  548  551  566  601  617  630  638  669  674\n",
      "  677  678  679  680  686  702  704  746  747  757  810  817  826  848\n",
      "  860  867  869  883  887  893  914  991 1026 1039 1054 1075 1085 1086\n",
      " 1121 1182 1197 1224 1241 1394 1698]\n",
      "\n",
      "Associated listings with greater than 100 reviews:\n",
      "[  20000   22354   23619   31796   36885   47521   57800   60029   66288\n",
      "   72811   77691   93505  163941  169430  177129  197972  200265  205894\n",
      "  210097  217498  220676  225224  257588  322593  336960  414419  447826\n",
      "  497810  508017  526970  536865  554720  568234  619142  625012  708802\n",
      "  766700  798957  815639  891661  915272  916123 1038465 1071235 1112067\n",
      " 1112193 1115394 1136972 1141522 1147871 1161210 1171578 1178106 1178162\n",
      " 1321422 1327725 1332786 1391215 1454258 1472481 1472520 1497879 1529321\n",
      " 1544702 1584362 1591827 1615033 1695275 1811776 1815326 1821633 1850260\n",
      " 1881298 1884045 1885386 1936861 2014882 2174711 2227959 2295530 2395326\n",
      " 2683284 2698996 2764624 2776143 2875267 2898226 3012529 3021446 3129309\n",
      " 3166256 3302294 3528826 3616081 3693850 3749523 3946215 3969526 3985462\n",
      " 3987926 3988018 3992208 4025194 4090224 4105704 4304969 4314054 4359160\n",
      " 4553903 4568116 4586590 4695542 4765070 4793787 4820071 4909590 4924910\n",
      " 4967219 5085125 5709298 5882411 5940866 6006121 6089865 6134867 6142396\n",
      " 6337106 6676364 6742905 6870366 6924700 7693354 8982616]\n"
     ]
    }
   ],
   "source": [
    "gt_100 = np.where(counts > 100)[0]\n",
    "ids_gt_100 = ids[gt_100]\n",
    "\n",
    "print('Number of listings with greater than 100 reviews: ' + str(len(gt_100)))\n",
    "print('\\nIndices of listings with greater than 100 reviews:\\n' + str(gt_100))\n",
    "print('\\nAssociated listings with greater than 100 reviews:\\n' + str(ids_gt_100))"
   ]
  },
  {
   "cell_type": "markdown",
   "metadata": {},
   "source": [
    "We now have everything we need:\n",
    "\n",
    "* LSTM model with relatively good accuracy\n",
    "* Listing IDs of Airbnbs with greater than 100 reviews\n",
    "\n",
    "Let's start analyzing these reviews! We create a `for` loop to run through each of the listing IDs in `ids_gt_100`, find them in the `df_reviews` dataframe, and then run through the exact same sequence of preprocessing as we did for the IMDB dataset - makes it helpful that we defined all of these functions above. At the end, however, instead of training a model, we use our `LSTM_model` to make predictions of sentiment and collect them in a `ratings` dictionary. The `ratings` dictionary will have the `listing_id` as the key (which we call `temp_id` in the loop), and a list of `[actual_rating, predicted_rating]` as the values.\n",
    "\n",
    "One thing I will note, I chose an `airbnb_sequence_length` of 250, as opposed to the `imdb_sequence_length` of 1000. When I ran this through originally, I plotted similar histograms to the IMDB dataset of each of the listing IDs, and found 250 was a pretty consistent cutoff in terms of length. I don't want to include 133 histograms in this notebook, but you can feel free to uncomment the following line of code in the `for` loop and see for yourself (also feel free to adjust 1000 to whatever you'd like):\n",
    "\n",
    "`plot_histogram(airbnb_lengths, 1000)`"
   ]
  },
  {
   "cell_type": "code",
   "execution_count": 30,
   "metadata": {},
   "outputs": [
    {
     "name": "stdout",
     "output_type": "stream",
     "text": [
      "--- Listing ID 20000 ---\n",
      "Predicted Rating: [49.8] vs. Actual Rating: [86.0]\n",
      "--- Listing ID 22354 ---\n",
      "Predicted Rating: [48.8] vs. Actual Rating: [88.0]\n",
      "--- Listing ID 23619 ---\n",
      "Predicted Rating: [50.4] vs. Actual Rating: [92.0]\n",
      "--- Listing ID 31796 ---\n",
      "Predicted Rating: [48.3] vs. Actual Rating: [87.0]\n",
      "--- Listing ID 36885 ---\n",
      "Predicted Rating: [44.0] vs. Actual Rating: [97.0]\n",
      "--- Listing ID 47521 ---\n",
      "Predicted Rating: [47.7] vs. Actual Rating: [88.0]\n",
      "--- Listing ID 57800 ---\n",
      "Predicted Rating: [50.0] vs. Actual Rating: [90.0]\n",
      "--- Listing ID 60029 ---\n",
      "Predicted Rating: [51.8] vs. Actual Rating: [95.0]\n",
      "--- Listing ID 66288 ---\n",
      "Predicted Rating: [43.3] vs. Actual Rating: [78.0]\n",
      "--- Listing ID 72811 ---\n",
      "Predicted Rating: [42.3] vs. Actual Rating: [91.0]\n",
      "--- Listing ID 77691 ---\n",
      "Predicted Rating: [47.4] vs. Actual Rating: [88.0]\n",
      "--- Listing ID 93505 ---\n",
      "Predicted Rating: [44.0] vs. Actual Rating: [94.0]\n",
      "--- Listing ID 163941 ---\n",
      "Predicted Rating: [50.7] vs. Actual Rating: [92.0]\n",
      "--- Listing ID 169430 ---\n",
      "Predicted Rating: [40.0] vs. Actual Rating: [91.0]\n",
      "--- Listing ID 177129 ---\n",
      "Predicted Rating: [50.8] vs. Actual Rating: [94.0]\n",
      "--- Listing ID 197972 ---\n",
      "Predicted Rating: [51.7] vs. Actual Rating: [96.0]\n",
      "--- Listing ID 200265 ---\n",
      "Predicted Rating: [45.8] vs. Actual Rating: [93.0]\n",
      "--- Listing ID 205894 ---\n",
      "Predicted Rating: [49.6] vs. Actual Rating: [89.0]\n",
      "--- Listing ID 210097 ---\n",
      "Predicted Rating: [48.7] vs. Actual Rating: [97.0]\n",
      "--- Listing ID 217498 ---\n",
      "Predicted Rating: [41.2] vs. Actual Rating: [95.0]\n",
      "--- Listing ID 220676 ---\n",
      "Predicted Rating: [46.9] vs. Actual Rating: [98.0]\n",
      "--- Listing ID 225224 ---\n",
      "Predicted Rating: [50.3] vs. Actual Rating: [91.0]\n",
      "--- Listing ID 257588 ---\n",
      "Predicted Rating: [50.8] vs. Actual Rating: [96.0]\n",
      "--- Listing ID 322593 ---\n",
      "Predicted Rating: [47.6] vs. Actual Rating: [94.0]\n",
      "--- Listing ID 336960 ---\n",
      "Predicted Rating: [52.4] vs. Actual Rating: [92.0]\n",
      "--- Listing ID 414419 ---\n",
      "Predicted Rating: [49.7] vs. Actual Rating: [92.0]\n",
      "--- Listing ID 447826 ---\n",
      "Predicted Rating: [47.0] vs. Actual Rating: [96.0]\n",
      "--- Listing ID 497810 ---\n",
      "Predicted Rating: [50.4] vs. Actual Rating: [92.0]\n",
      "--- Listing ID 508017 ---\n",
      "Predicted Rating: [44.2] vs. Actual Rating: [94.0]\n",
      "--- Listing ID 526970 ---\n",
      "Predicted Rating: [42.7] vs. Actual Rating: [90.0]\n",
      "--- Listing ID 536865 ---\n",
      "Predicted Rating: [46.5] vs. Actual Rating: [87.0]\n",
      "--- Listing ID 554720 ---\n",
      "Predicted Rating: [50.9] vs. Actual Rating: [95.0]\n",
      "--- Listing ID 568234 ---\n",
      "Predicted Rating: [51.5] vs. Actual Rating: [97.0]\n",
      "--- Listing ID 619142 ---\n",
      "Predicted Rating: [50.5] vs. Actual Rating: [95.0]\n",
      "--- Listing ID 625012 ---\n",
      "Predicted Rating: [43.9] vs. Actual Rating: [96.0]\n",
      "--- Listing ID 708802 ---\n",
      "Predicted Rating: [50.2] vs. Actual Rating: [98.0]\n",
      "--- Listing ID 766700 ---\n",
      "Predicted Rating: [46.3] vs. Actual Rating: [88.0]\n",
      "--- Listing ID 798957 ---\n",
      "Predicted Rating: [46.9] vs. Actual Rating: [97.0]\n",
      "--- Listing ID 815639 ---\n",
      "Predicted Rating: [53.4] vs. Actual Rating: [92.0]\n",
      "--- Listing ID 891661 ---\n",
      "Predicted Rating: [46.8] vs. Actual Rating: [91.0]\n",
      "--- Listing ID 915272 ---\n",
      "Predicted Rating: [43.3] vs. Actual Rating: [85.0]\n",
      "--- Listing ID 916123 ---\n",
      "Predicted Rating: [52.0] vs. Actual Rating: [88.0]\n",
      "--- Listing ID 1038465 ---\n",
      "Predicted Rating: [48.8] vs. Actual Rating: [88.0]\n",
      "--- Listing ID 1071235 ---\n",
      "Predicted Rating: [50.7] vs. Actual Rating: [94.0]\n",
      "--- Listing ID 1112067 ---\n",
      "Predicted Rating: [45.0] vs. Actual Rating: [87.0]\n",
      "--- Listing ID 1112193 ---\n",
      "Predicted Rating: [50.0] vs. Actual Rating: [89.0]\n",
      "--- Listing ID 1115394 ---\n",
      "Predicted Rating: [46.4] vs. Actual Rating: [96.0]\n",
      "--- Listing ID 1136972 ---\n",
      "Predicted Rating: [49.3] vs. Actual Rating: [96.0]\n",
      "--- Listing ID 1141522 ---\n",
      "Predicted Rating: [54.0] vs. Actual Rating: [86.0]\n",
      "--- Listing ID 1147871 ---\n",
      "Predicted Rating: [48.2] vs. Actual Rating: [89.0]\n",
      "--- Listing ID 1161210 ---\n",
      "Predicted Rating: [49.4] vs. Actual Rating: [93.0]\n",
      "--- Listing ID 1171578 ---\n",
      "Predicted Rating: [45.4] vs. Actual Rating: [97.0]\n",
      "--- Listing ID 1178106 ---\n",
      "Predicted Rating: [47.8] vs. Actual Rating: [86.0]\n",
      "--- Listing ID 1178162 ---\n",
      "Predicted Rating: [41.9] vs. Actual Rating: [86.0]\n",
      "--- Listing ID 1321422 ---\n",
      "Predicted Rating: [53.1] vs. Actual Rating: [96.0]\n",
      "--- Listing ID 1327725 ---\n",
      "Predicted Rating: [50.8] vs. Actual Rating: [94.0]\n",
      "--- Listing ID 1332786 ---\n",
      "Predicted Rating: [49.5] vs. Actual Rating: [98.0]\n",
      "--- Listing ID 1391215 ---\n",
      "Predicted Rating: [46.8] vs. Actual Rating: [87.0]\n",
      "--- Listing ID 1454258 ---\n",
      "Predicted Rating: [52.8] vs. Actual Rating: [98.0]\n",
      "--- Listing ID 1472481 ---\n",
      "Predicted Rating: [49.4] vs. Actual Rating: [96.0]\n",
      "--- Listing ID 1472520 ---\n",
      "Predicted Rating: [50.6] vs. Actual Rating: [96.0]\n",
      "--- Listing ID 1497879 ---\n",
      "Predicted Rating: [48.1] vs. Actual Rating: [88.0]\n",
      "--- Listing ID 1529321 ---\n",
      "Predicted Rating: [48.6] vs. Actual Rating: [91.0]\n",
      "--- Listing ID 1544702 ---\n",
      "Predicted Rating: [50.0] vs. Actual Rating: [97.0]\n",
      "--- Listing ID 1584362 ---\n",
      "Predicted Rating: [49.6] vs. Actual Rating: [97.0]\n",
      "--- Listing ID 1591827 ---\n",
      "Predicted Rating: [47.0] vs. Actual Rating: [92.0]\n",
      "--- Listing ID 1615033 ---\n",
      "Predicted Rating: [45.8] vs. Actual Rating: [87.0]\n",
      "--- Listing ID 1695275 ---\n",
      "Predicted Rating: [49.4] vs. Actual Rating: [78.0]\n",
      "--- Listing ID 1811776 ---\n",
      "Predicted Rating: [44.5] vs. Actual Rating: [92.0]\n",
      "--- Listing ID 1815326 ---\n",
      "Predicted Rating: [43.2] vs. Actual Rating: [94.0]\n",
      "--- Listing ID 1821633 ---\n",
      "Predicted Rating: [44.3] vs. Actual Rating: [98.0]\n",
      "--- Listing ID 1850260 ---\n",
      "Predicted Rating: [48.1] vs. Actual Rating: [86.0]\n",
      "--- Listing ID 1881298 ---\n",
      "Predicted Rating: [50.0] vs. Actual Rating: [95.0]\n",
      "--- Listing ID 1884045 ---\n",
      "Predicted Rating: [50.3] vs. Actual Rating: [87.0]\n",
      "--- Listing ID 1885386 ---\n",
      "Predicted Rating: [50.4] vs. Actual Rating: [95.0]\n",
      "--- Listing ID 1936861 ---\n",
      "Predicted Rating: [42.0] vs. Actual Rating: [98.0]\n",
      "--- Listing ID 2014882 ---\n",
      "Predicted Rating: [49.0] vs. Actual Rating: [93.0]\n",
      "--- Listing ID 2174711 ---\n",
      "Predicted Rating: [48.5] vs. Actual Rating: [88.0]\n",
      "--- Listing ID 2227959 ---\n",
      "Predicted Rating: [51.1] vs. Actual Rating: [92.0]\n",
      "--- Listing ID 2295530 ---\n",
      "Predicted Rating: [52.5] vs. Actual Rating: [99.0]\n",
      "--- Listing ID 2395326 ---\n",
      "Predicted Rating: [48.9] vs. Actual Rating: [97.0]\n",
      "--- Listing ID 2683284 ---\n",
      "Predicted Rating: [40.9] vs. Actual Rating: [92.0]\n",
      "--- Listing ID 2698996 ---\n",
      "Predicted Rating: [43.5] vs. Actual Rating: [98.0]\n",
      "--- Listing ID 2764624 ---\n",
      "Predicted Rating: [45.0] vs. Actual Rating: [87.0]\n",
      "--- Listing ID 2776143 ---\n",
      "Predicted Rating: [42.6] vs. Actual Rating: [80.0]\n",
      "--- Listing ID 2875267 ---\n",
      "Predicted Rating: [48.0] vs. Actual Rating: [99.0]\n",
      "--- Listing ID 2898226 ---\n",
      "Predicted Rating: [51.5] vs. Actual Rating: [87.0]\n",
      "--- Listing ID 3012529 ---\n",
      "Predicted Rating: [48.3] vs. Actual Rating: [92.0]\n",
      "--- Listing ID 3021446 ---\n",
      "Predicted Rating: [55.1] vs. Actual Rating: [92.0]\n",
      "--- Listing ID 3129309 ---\n",
      "Predicted Rating: [52.6] vs. Actual Rating: [92.0]\n",
      "--- Listing ID 3166256 ---\n",
      "Predicted Rating: [44.1] vs. Actual Rating: [96.0]\n",
      "--- Listing ID 3302294 ---\n",
      "Predicted Rating: [42.1] vs. Actual Rating: [83.0]\n",
      "--- Listing ID 3528826 ---\n",
      "Predicted Rating: [46.6] vs. Actual Rating: [98.0]\n",
      "--- Listing ID 3616081 ---\n",
      "Predicted Rating: [48.0] vs. Actual Rating: [97.0]\n",
      "--- Listing ID 3693850 ---\n",
      "Predicted Rating: [48.9] vs. Actual Rating: [96.0]\n",
      "--- Listing ID 3749523 ---\n",
      "Predicted Rating: [42.9] vs. Actual Rating: [93.0]\n",
      "--- Listing ID 3946215 ---\n",
      "Predicted Rating: [44.6] vs. Actual Rating: [96.0]\n",
      "--- Listing ID 3969526 ---\n",
      "Predicted Rating: [48.6] vs. Actual Rating: [94.0]\n",
      "--- Listing ID 3985462 ---\n",
      "Predicted Rating: [53.7] vs. Actual Rating: [98.0]\n",
      "--- Listing ID 3987926 ---\n",
      "Predicted Rating: [52.7] vs. Actual Rating: [98.0]\n",
      "--- Listing ID 3988018 ---\n",
      "Predicted Rating: [50.9] vs. Actual Rating: [97.0]\n",
      "--- Listing ID 3992208 ---\n",
      "Predicted Rating: [45.7] vs. Actual Rating: [76.0]\n",
      "--- Listing ID 4025194 ---\n",
      "Predicted Rating: [42.7] vs. Actual Rating: [97.0]\n",
      "--- Listing ID 4090224 ---\n",
      "Predicted Rating: [50.0] vs. Actual Rating: [97.0]\n",
      "--- Listing ID 4105704 ---\n",
      "Predicted Rating: [59.6] vs. Actual Rating: [98.0]\n",
      "--- Listing ID 4304969 ---\n",
      "Predicted Rating: [45.5] vs. Actual Rating: [97.0]\n"
     ]
    },
    {
     "name": "stdout",
     "output_type": "stream",
     "text": [
      "--- Listing ID 4314054 ---\n",
      "Predicted Rating: [46.0] vs. Actual Rating: [87.0]\n",
      "--- Listing ID 4359160 ---\n",
      "Predicted Rating: [39.7] vs. Actual Rating: [75.0]\n",
      "--- Listing ID 4553903 ---\n",
      "Predicted Rating: [46.4] vs. Actual Rating: [94.0]\n",
      "--- Listing ID 4568116 ---\n",
      "Predicted Rating: [42.3] vs. Actual Rating: [96.0]\n",
      "--- Listing ID 4586590 ---\n",
      "Predicted Rating: [54.9] vs. Actual Rating: [98.0]\n",
      "--- Listing ID 4695542 ---\n",
      "Predicted Rating: [38.6] vs. Actual Rating: [85.0]\n",
      "--- Listing ID 4765070 ---\n",
      "Predicted Rating: [55.4] vs. Actual Rating: [93.0]\n",
      "--- Listing ID 4793787 ---\n",
      "Predicted Rating: [54.5] vs. Actual Rating: [98.0]\n",
      "--- Listing ID 4820071 ---\n",
      "Predicted Rating: [53.4] vs. Actual Rating: [95.0]\n",
      "--- Listing ID 4909590 ---\n",
      "Predicted Rating: [50.5] vs. Actual Rating: [97.0]\n",
      "--- Listing ID 4924910 ---\n",
      "Predicted Rating: [41.4] vs. Actual Rating: [87.0]\n",
      "--- Listing ID 4967219 ---\n",
      "Predicted Rating: [49.7] vs. Actual Rating: [82.0]\n",
      "--- Listing ID 5085125 ---\n",
      "Predicted Rating: [46.3] vs. Actual Rating: [90.0]\n",
      "--- Listing ID 5709298 ---\n",
      "Predicted Rating: [50.6] vs. Actual Rating: [98.0]\n",
      "--- Listing ID 5882411 ---\n",
      "Predicted Rating: [42.6] vs. Actual Rating: [96.0]\n",
      "--- Listing ID 5940866 ---\n",
      "Predicted Rating: [54.0] vs. Actual Rating: [97.0]\n",
      "--- Listing ID 6006121 ---\n",
      "Predicted Rating: [54.3] vs. Actual Rating: [92.0]\n",
      "--- Listing ID 6089865 ---\n",
      "Predicted Rating: [60.8] vs. Actual Rating: [96.0]\n",
      "--- Listing ID 6134867 ---\n",
      "Predicted Rating: [42.9] vs. Actual Rating: [93.0]\n",
      "--- Listing ID 6142396 ---\n",
      "Predicted Rating: [54.8] vs. Actual Rating: [95.0]\n",
      "--- Listing ID 6337106 ---\n",
      "Predicted Rating: [41.8] vs. Actual Rating: [88.0]\n",
      "--- Listing ID 6676364 ---\n",
      "Predicted Rating: [49.4] vs. Actual Rating: [98.0]\n",
      "--- Listing ID 6742905 ---\n",
      "Predicted Rating: [44.6] vs. Actual Rating: [71.0]\n",
      "--- Listing ID 6870366 ---\n",
      "Predicted Rating: [51.9] vs. Actual Rating: [96.0]\n",
      "--- Listing ID 6924700 ---\n",
      "Predicted Rating: [53.5] vs. Actual Rating: [93.0]\n",
      "--- Listing ID 7693354 ---\n",
      "Predicted Rating: [50.4] vs. Actual Rating: [91.0]\n",
      "--- Listing ID 8982616 ---\n",
      "Predicted Rating: [51.6] vs. Actual Rating: [91.0]\n"
     ]
    }
   ],
   "source": [
    "ratings = {}\n",
    "\n",
    "for temp_id in ids_gt_100:\n",
    "    temp_comments = df_reviews.loc[df_reviews['listing_id'] == \\\n",
    "                                   temp_id]['comments']\n",
    "    \n",
    "    # Rename for function, then strip punctuation and whitespace\n",
    "    temp_comments.rename('review', inplace = True)\n",
    "    stripped_airbnb = strip_punctuation_and_whitespace(temp_comments,\n",
    "                                                       verbose = False)\n",
    "    \n",
    "    # Plot histogram of review length. Find sequence cutoff length\n",
    "    airbnb_lengths = get_length_all_reviews(stripped_airbnb['review'])\n",
    "    #plot_histogram(airbnb_lengths, 1000)\n",
    "    airbnb_sequence_length = 250\n",
    "    \n",
    "    # Tokenizer with 10000 word vocabulary\n",
    "    airbnb_tokenizer, airbnb_integer_reviews = \\\n",
    "                                            create_tokenizer(vocabulary_length,\n",
    "                                                             stripped_airbnb)\n",
    "    # Pad zeros up to airbnb_sequence_length\n",
    "    airbnb_padded_reviews = pad_zeros(airbnb_integer_reviews,\n",
    "                                      airbnb_sequence_length,\n",
    "                                      padding = 'pre')\n",
    "    \n",
    "    # Predict sentiment\n",
    "    airbnb_sentiments = LSTM_model.predict_classes(airbnb_padded_reviews)\n",
    "    predicted_rating = round(airbnb_sentiments.mean() * 100, 1)\n",
    "\n",
    "    # Print comparisons\n",
    "    actual_rating = df_listings.loc[df_listings['id'] == temp_id]\\\n",
    "                    ['review_scores_rating'].values[0]\n",
    "    print('--- Listing ID ' + str(temp_id) + ' ---\\nPredicted Rating: [' + \\\n",
    "          str(predicted_rating) + '] vs. Actual Rating: [' + \\\n",
    "          str(actual_rating) + ']')\n",
    "    ratings[temp_id] = [actual_rating, predicted_rating]"
   ]
  },
  {
   "cell_type": "markdown",
   "metadata": {},
   "source": [
    "All right, so this...isn't great. Predicted Ratings aren't matching up that well with Actual Ratings. Let's make this visual just to see what exactly we're dealing with. First, we'll sort the ratings in ascending order of Actual Rating. Since we created a list of `[actual_rating, predicted_rating]` as the values in the `ratings` dictionary, we can easily sort them while also ensuring both ratings are still referring to the same `listing_id`. What we don't want to do is sort `actual_rating` and `predicted_rating` *separately* - if we did that, we would likely see a false correlation as both ratings would obviously increase."
   ]
  },
  {
   "cell_type": "code",
   "execution_count": 31,
   "metadata": {},
   "outputs": [
    {
     "data": {
      "text/plain": [
       "[[71.0, 44.6],\n",
       " [75.0, 39.7],\n",
       " [76.0, 45.7],\n",
       " [78.0, 43.3],\n",
       " [78.0, 49.4],\n",
       " [80.0, 42.6],\n",
       " [82.0, 49.7],\n",
       " [83.0, 42.1],\n",
       " [85.0, 38.6],\n",
       " [85.0, 43.3],\n",
       " [86.0, 41.9],\n",
       " [86.0, 47.8],\n",
       " [86.0, 48.1],\n",
       " [86.0, 49.8],\n",
       " [86.0, 54.0],\n",
       " [87.0, 41.4],\n",
       " [87.0, 45.0],\n",
       " [87.0, 45.0],\n",
       " [87.0, 45.8],\n",
       " [87.0, 46.0],\n",
       " [87.0, 46.5],\n",
       " [87.0, 46.8],\n",
       " [87.0, 48.3],\n",
       " [87.0, 50.3],\n",
       " [87.0, 51.5],\n",
       " [88.0, 41.8],\n",
       " [88.0, 46.3],\n",
       " [88.0, 47.4],\n",
       " [88.0, 47.7],\n",
       " [88.0, 48.1],\n",
       " [88.0, 48.5],\n",
       " [88.0, 48.8],\n",
       " [88.0, 48.8],\n",
       " [88.0, 52.0],\n",
       " [89.0, 48.2],\n",
       " [89.0, 49.6],\n",
       " [89.0, 50.0],\n",
       " [90.0, 42.7],\n",
       " [90.0, 46.3],\n",
       " [90.0, 50.0],\n",
       " [91.0, 40.0],\n",
       " [91.0, 42.3],\n",
       " [91.0, 46.8],\n",
       " [91.0, 48.6],\n",
       " [91.0, 50.3],\n",
       " [91.0, 50.4],\n",
       " [91.0, 51.6],\n",
       " [92.0, 40.9],\n",
       " [92.0, 44.5],\n",
       " [92.0, 47.0],\n",
       " [92.0, 48.3],\n",
       " [92.0, 49.7],\n",
       " [92.0, 50.4],\n",
       " [92.0, 50.4],\n",
       " [92.0, 50.7],\n",
       " [92.0, 51.1],\n",
       " [92.0, 52.4],\n",
       " [92.0, 52.6],\n",
       " [92.0, 53.4],\n",
       " [92.0, 54.3],\n",
       " [92.0, 55.1],\n",
       " [93.0, 42.9],\n",
       " [93.0, 42.9],\n",
       " [93.0, 45.8],\n",
       " [93.0, 49.0],\n",
       " [93.0, 49.4],\n",
       " [93.0, 53.5],\n",
       " [93.0, 55.4],\n",
       " [94.0, 43.2],\n",
       " [94.0, 44.0],\n",
       " [94.0, 44.2],\n",
       " [94.0, 46.4],\n",
       " [94.0, 47.6],\n",
       " [94.0, 48.6],\n",
       " [94.0, 50.7],\n",
       " [94.0, 50.8],\n",
       " [94.0, 50.8],\n",
       " [95.0, 41.2],\n",
       " [95.0, 50.0],\n",
       " [95.0, 50.4],\n",
       " [95.0, 50.5],\n",
       " [95.0, 50.9],\n",
       " [95.0, 51.8],\n",
       " [95.0, 53.4],\n",
       " [95.0, 54.8],\n",
       " [96.0, 42.3],\n",
       " [96.0, 42.6],\n",
       " [96.0, 43.9],\n",
       " [96.0, 44.1],\n",
       " [96.0, 44.6],\n",
       " [96.0, 46.4],\n",
       " [96.0, 47.0],\n",
       " [96.0, 48.9],\n",
       " [96.0, 49.3],\n",
       " [96.0, 49.4],\n",
       " [96.0, 50.6],\n",
       " [96.0, 50.8],\n",
       " [96.0, 51.7],\n",
       " [96.0, 51.9],\n",
       " [96.0, 53.1],\n",
       " [96.0, 60.8],\n",
       " [97.0, 42.7],\n",
       " [97.0, 44.0],\n",
       " [97.0, 45.4],\n",
       " [97.0, 45.5],\n",
       " [97.0, 46.9],\n",
       " [97.0, 48.0],\n",
       " [97.0, 48.7],\n",
       " [97.0, 48.9],\n",
       " [97.0, 49.6],\n",
       " [97.0, 50.0],\n",
       " [97.0, 50.0],\n",
       " [97.0, 50.5],\n",
       " [97.0, 50.9],\n",
       " [97.0, 51.5],\n",
       " [97.0, 54.0],\n",
       " [98.0, 42.0],\n",
       " [98.0, 43.5],\n",
       " [98.0, 44.3],\n",
       " [98.0, 46.6],\n",
       " [98.0, 46.9],\n",
       " [98.0, 49.4],\n",
       " [98.0, 49.5],\n",
       " [98.0, 50.2],\n",
       " [98.0, 50.6],\n",
       " [98.0, 52.7],\n",
       " [98.0, 52.8],\n",
       " [98.0, 53.7],\n",
       " [98.0, 54.5],\n",
       " [98.0, 54.9],\n",
       " [98.0, 59.6],\n",
       " [99.0, 48.0],\n",
       " [99.0, 52.5]]"
      ]
     },
     "execution_count": 31,
     "metadata": {},
     "output_type": "execute_result"
    }
   ],
   "source": [
    "sorted_ratings = [ratings[i] for i in ratings]\n",
    "sorted_ratings.sort()\n",
    "sorted_ratings"
   ]
  },
  {
   "cell_type": "markdown",
   "metadata": {},
   "source": [
    "Now, we can separate them feeling confident the ratings are in the correct order. You can easily match these lists up with the values above."
   ]
  },
  {
   "cell_type": "code",
   "execution_count": 32,
   "metadata": {},
   "outputs": [
    {
     "name": "stdout",
     "output_type": "stream",
     "text": [
      "First 10 Actual Ratings: \n",
      "[71.0, 75.0, 76.0, 78.0, 78.0, 80.0, 82.0, 83.0, 85.0, 85.0]\n",
      "\n",
      "First 10 Predicted Ratings: \n",
      "[44.6, 39.7, 45.7, 43.3, 49.4, 42.6, 49.7, 42.1, 38.6, 43.3]\n"
     ]
    }
   ],
   "source": [
    "plot_actual_ratings = [rating[0] for rating in sorted_ratings]\n",
    "plot_predicted_ratings = [rating[1] for rating in sorted_ratings]\n",
    "\n",
    "print('First 10 Actual Ratings: \\n' + str(plot_actual_ratings[0:10]))\n",
    "print('\\nFirst 10 Predicted Ratings: \\n' + str(plot_predicted_ratings[0:10]))"
   ]
  },
  {
   "cell_type": "markdown",
   "metadata": {},
   "source": [
    "Lastly, we'll plot the ratings and see how well we did! Note that the y-axes do not display comparable ranges. Since the model gets trained differently each time we run through this, the predicted ratings tend to fluctuate, so we can't anticipate and set limits on the ranges. However, we want to show how ratings fluctuate within one dataset and see if any potential fluctuations are comparable, so this usually works to our advantage since the plots automatically get overlaid."
   ]
  },
  {
   "cell_type": "code",
   "execution_count": 33,
   "metadata": {},
   "outputs": [
    {
     "data": {
      "image/png": "[encoded data removed]",
      "text/plain": [
       "<Figure size 432x288 with 2 Axes>"
      ]
     },
     "metadata": {},
     "output_type": "display_data"
    }
   ],
   "source": [
    "ax1_min = int(math.floor(min(plot_predicted_ratings)/5) * 5)\n",
    "\n",
    "fig, ax1 = plt.subplots()\n",
    "predicted_line = ax1.plot(range(len(plot_predicted_ratings)),\n",
    "                          plot_predicted_ratings,\n",
    "                          color = 'orange',\n",
    "                          label = 'Predicted Ratings')\n",
    "ax1.set_xlabel('Listing')\n",
    "ax1.set_ylabel('LSTM Predicted Rating', color = 'orange')\n",
    "ax1.tick_params(axis = 'y', color = 'orange')\n",
    "plt.setp(ax1.get_yticklabels(), color = 'orange')\n",
    "\n",
    "ax2 = ax1.twinx()\n",
    "actual_line = ax2.plot(range(len(plot_actual_ratings)),\n",
    "                       plot_actual_ratings,\n",
    "                       color = 'black',\n",
    "                       label = 'Actual Ratings')\n",
    "ax2.set_ylabel('Actual Ratings', color = 'black')\n",
    "ax2.set_ylim(70, 100)\n",
    "ax2.spines['left'].set_color('orange')\n",
    "\n",
    "ax1.legend((predicted_line + actual_line),\n",
    "           ['Predicted Rating', 'Actual Rating'],\n",
    "           loc = 'upper center',\n",
    "           bbox_to_anchor = (0.5, -0.15),\n",
    "           fancybox = True,\n",
    "           shadow = True,\n",
    "           ncol = 2)\n",
    "plt.title('Predicted Ratings vs. Actual Ratings for Boston Airbnbs')\n",
    "plt.show()"
   ]
  },
  {
   "cell_type": "markdown",
   "metadata": {},
   "source": [
    "Obviously, this was a failed experiment. I'll be honest, it went a lot better in my head. However, it was a super fun exploration and I learned a lot about both LSTMs and presenting my info logically in a notebook. From a data analysis perspective, I don't think correlating a binary classifier (i.e. \"positive\" or \"negative\") with what should really be a regression task (predicting a numerical rating) was the best approach. However, I do think this can be used to show how differently people rate things when given a numerical assessment versus a verbal/written assessment."
   ]
  }
 ],
 "metadata": {
  "kernelspec": {
   "display_name": "Python 3",
   "language": "python",
   "name": "python3"
  },
  "language_info": {
   "codemirror_mode": {
    "name": "ipython",
    "version": 3
   },
   "file_extension": ".py",
   "mimetype": "text/x-python",
   "name": "python",
   "nbconvert_exporter": "python",
   "pygments_lexer": "ipython3",
   "version": "3.6.8"
  }
 },
 "nbformat": 4,
 "nbformat_minor": 2
}
