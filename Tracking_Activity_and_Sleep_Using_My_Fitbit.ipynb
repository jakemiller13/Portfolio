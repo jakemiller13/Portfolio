{
 "cells": [
  {
   "cell_type": "markdown",
   "metadata": {},
   "source": [
    "### Background\n",
    "\n",
    "This is a project that came out of a month-long step challenge I organized at my company. I occasionally have difficulty sleeping, and since I would already be wearing my Fitbit 24 hours a day for a month, figured it could be a great opportunity to make a data science project out of it. My goal was to see if I could find any relationship between how active I was throughout the day with how well I slept at night."
   ]
  },
  {
   "cell_type": "markdown",
   "metadata": {},
   "source": [
    "### Resources\n",
    "Before being able to gather my data, I had to create a developer app on the Fitbit website. This [Towards Data Science](https://towardsdatascience.com/collect-your-own-fitbit-data-with-python-ff145fa10873) article is an excellent resource for setting that up, so I encourage you to check it out.\n",
    "ORCAS also created [this Python implementation](https://github.com/orcasgit/python-fitbit) of the Fitbit API which I use to access my data."
   ]
  },
  {
   "cell_type": "markdown",
   "metadata": {},
   "source": [
    "### Code\n",
    "\n",
    "I start by importing the `fitbit` module which I use to make my API calls, and the `gather_keys_oauth2` module for authentication with Fitbit."
   ]
  },
  {
   "cell_type": "code",
   "execution_count": 1,
   "metadata": {},
   "outputs": [],
   "source": [
    "import fitbit\n",
    "from fitbit import gather_keys_oauth2 as Oauth2\n",
    "import pandas as pd\n",
    "import datetime\n",
    "import matplotlib.pyplot as plt\n",
    "import matplotlib.ticker as ticker"
   ]
  },
  {
   "cell_type": "markdown",
   "metadata": {},
   "source": [
    "I'd rather not store my client ID and client secret online for everyone to see (that's all you need to gain access to my app), so I ask for it to be input each time here."
   ]
  },
  {
   "cell_type": "code",
   "execution_count": null,
   "metadata": {},
   "outputs": [],
   "source": [
    "CLIENT_ID = input('Client ID: ')\n",
    "CLIENT_SECRET = input('Client Secret: ')"
   ]
  },
  {
   "cell_type": "markdown",
   "metadata": {},
   "source": [
    "Now I open a browser session and authenticate myself."
   ]
  },
  {
   "cell_type": "code",
   "execution_count": 3,
   "metadata": {},
   "outputs": [
    {
     "name": "stderr",
     "output_type": "stream",
     "text": [
      "[26/Oct/2019:18:07:54] ENGINE Listening for SIGTERM.\n",
      "[26/Oct/2019:18:07:54] ENGINE Listening for SIGHUP.\n",
      "[26/Oct/2019:18:07:54] ENGINE Listening for SIGUSR1.\n",
      "[26/Oct/2019:18:07:54] ENGINE Bus STARTING\n",
      "CherryPy Checker:\n",
      "The Application mounted at '' has an empty config.\n",
      "\n",
      "[26/Oct/2019:18:07:54] ENGINE Started monitor thread 'Autoreloader'.\n",
      "[26/Oct/2019:18:07:54] ENGINE Serving on http://127.0.0.1:8080\n",
      "[26/Oct/2019:18:07:54] ENGINE Bus STARTED\n"
     ]
    },
    {
     "name": "stdout",
     "output_type": "stream",
     "text": [
      "127.0.0.1 - - [26/Oct/2019:18:07:55] \"GET /?code=42777ad6743eeab4a7d7be9ce4b30ee72852a1f9&state=EQWFvgQ2TmHhT9PvX4jsV8Jnrsqleg HTTP/1.1\" 200 122 \"\" \"Mozilla/5.0 (Macintosh; Intel Mac OS X 10_15_0) AppleWebKit/537.36 (KHTML, like Gecko) Chrome/78.0.3904.70 Safari/537.36\"\n"
     ]
    },
    {
     "name": "stderr",
     "output_type": "stream",
     "text": [
      "[26/Oct/2019:18:07:56] ENGINE Bus STOPPING\n",
      "[26/Oct/2019:18:07:56] ENGINE HTTP Server cherrypy._cpwsgi_server.CPWSGIServer(('127.0.0.1', 8080)) shut down\n",
      "[26/Oct/2019:18:07:56] ENGINE Stopped thread 'Autoreloader'.\n",
      "[26/Oct/2019:18:07:56] ENGINE Bus STOPPED\n",
      "[26/Oct/2019:18:07:56] ENGINE Bus EXITING\n",
      "[26/Oct/2019:18:07:56] ENGINE Bus EXITED\n",
      "[26/Oct/2019:18:07:56] ENGINE Waiting for child threads to terminate...\n"
     ]
    }
   ],
   "source": [
    "server = Oauth2.OAuth2Server(CLIENT_ID, CLIENT_SECRET)\n",
    "server.browser_authorize()"
   ]
  },
  {
   "cell_type": "markdown",
   "metadata": {},
   "source": [
    "Once the session is opened, I can get an access token and a refresh token. I then instantiate the actual `Fitbit` class, using all of the access parameters I've gotten.\n",
    "I also set version 1.2 of the API because I found that has more detailed sleep data."
   ]
  },
  {
   "cell_type": "code",
   "execution_count": 4,
   "metadata": {},
   "outputs": [],
   "source": [
    "ACCESS_TOKEN = str(server.fitbit.client.session.token['access_token'])\n",
    "REFRESH_TOKEN = str(server.fitbit.client.session.token['refresh_token'])\n",
    "auth2_client = fitbit.Fitbit(CLIENT_ID, CLIENT_SECRET, oauth2 = True,\n",
    "                             access_token = ACCESS_TOKEN,\n",
    "                             refresh_token = REFRESH_TOKEN)\n",
    "auth2_client.API_VERSION = 1.2"
   ]
  },
  {
   "cell_type": "markdown",
   "metadata": {},
   "source": [
    "I set a few date related parameters here. The `no_sleep` variable contains the 2 days during the month that I had trouble sleeping, while the `start_date` and `end_date` are used to bracket the API calls I will make."
   ]
  },
  {
   "cell_type": "code",
   "execution_count": 5,
   "metadata": {},
   "outputs": [],
   "source": [
    "no_sleep = [pd.Timestamp(2019, 9, 13),\n",
    "            pd.Timestamp(2019, 9, 22)]\n",
    "\n",
    "start_date = datetime.datetime(2019, 9, 10)\n",
    "period = 30\n",
    "end_date = start_date + datetime.timedelta(days = period)"
   ]
  },
  {
   "cell_type": "markdown",
   "metadata": {},
   "source": [
    "I can now start pulling in my activity data. I start by creating the empty `activity_level_df` dataframe. I also specify the 3 activity_levels I'm going to look at. There is a fourth level, \"sedentary,\" but any time not spent in one of the other 3 levels was spent sedentary, so I omit it."
   ]
  },
  {
   "cell_type": "code",
   "execution_count": 6,
   "metadata": {},
   "outputs": [],
   "source": [
    "activity_level_df = pd.DataFrame()\n",
    "activity_level = ['LightlyActive', 'FairlyActive', 'VeryActive']"
   ]
  },
  {
   "cell_type": "markdown",
   "metadata": {},
   "source": [
    "Now I loop through the 3 activity levels, and use the `time_series` method to make calls to the API."
   ]
  },
  {
   "cell_type": "code",
   "execution_count": 7,
   "metadata": {},
   "outputs": [],
   "source": [
    "for level in activity_level:\n",
    "    activity_data = auth2_client.time_series('activities/minutes{}'\\\n",
    "                                             .format(level),\n",
    "                                             base_date = start_date,\n",
    "                                             end_date = end_date)\n",
    "    activity_df = pd.DataFrame(activity_data['activities-minutes{}'.\\\n",
    "                                             format(level)]).\\\n",
    "                                             rename({'value': level},\n",
    "                                                    axis = 1)\n",
    "    activity_df[level] = pd.to_numeric(activity_df[level])\n",
    "    # Need to set_index otherwise columns overlapping creates ValueError\n",
    "    activity_level_df = activity_level_df.join(activity_df.\\\n",
    "                                               set_index('dateTime'),\n",
    "                                               how = 'outer')"
   ]
  },
  {
   "cell_type": "markdown",
   "metadata": {},
   "source": [
    "This is a little bit of clean up to make the dataframe easier to join further down."
   ]
  },
  {
   "cell_type": "code",
   "execution_count": 8,
   "metadata": {},
   "outputs": [],
   "source": [
    "activity_level_df = activity_level_df.reset_index()\n",
    "activity_level_df['dateTime'] = pd.to_datetime(activity_level_df['dateTime'])"
   ]
  },
  {
   "cell_type": "markdown",
   "metadata": {},
   "source": [
    "Let's take a look at what my activity level dataframe looks like. Very simple - it contains the dates and how many minutes I was active at each level."
   ]
  },
  {
   "cell_type": "code",
   "execution_count": 9,
   "metadata": {},
   "outputs": [
    {
     "data": {
      "text/html": [
       "<div>\n",
       "<style scoped>\n",
       "    .dataframe tbody tr th:only-of-type {\n",
       "        vertical-align: middle;\n",
       "    }\n",
       "\n",
       "    .dataframe tbody tr th {\n",
       "        vertical-align: top;\n",
       "    }\n",
       "\n",
       "    .dataframe thead th {\n",
       "        text-align: right;\n",
       "    }\n",
       "</style>\n",
       "<table border=\"1\" class=\"dataframe\">\n",
       "  <thead>\n",
       "    <tr style=\"text-align: right;\">\n",
       "      <th></th>\n",
       "      <th>dateTime</th>\n",
       "      <th>LightlyActive</th>\n",
       "      <th>FairlyActive</th>\n",
       "      <th>VeryActive</th>\n",
       "    </tr>\n",
       "  </thead>\n",
       "  <tbody>\n",
       "    <tr>\n",
       "      <td>0</td>\n",
       "      <td>2019-09-10</td>\n",
       "      <td>162</td>\n",
       "      <td>26</td>\n",
       "      <td>148</td>\n",
       "    </tr>\n",
       "    <tr>\n",
       "      <td>1</td>\n",
       "      <td>2019-09-11</td>\n",
       "      <td>224</td>\n",
       "      <td>36</td>\n",
       "      <td>41</td>\n",
       "    </tr>\n",
       "    <tr>\n",
       "      <td>2</td>\n",
       "      <td>2019-09-12</td>\n",
       "      <td>244</td>\n",
       "      <td>97</td>\n",
       "      <td>94</td>\n",
       "    </tr>\n",
       "    <tr>\n",
       "      <td>3</td>\n",
       "      <td>2019-09-13</td>\n",
       "      <td>238</td>\n",
       "      <td>45</td>\n",
       "      <td>50</td>\n",
       "    </tr>\n",
       "    <tr>\n",
       "      <td>4</td>\n",
       "      <td>2019-09-14</td>\n",
       "      <td>304</td>\n",
       "      <td>32</td>\n",
       "      <td>65</td>\n",
       "    </tr>\n",
       "  </tbody>\n",
       "</table>\n",
       "</div>"
      ],
      "text/plain": [
       "    dateTime  LightlyActive  FairlyActive  VeryActive\n",
       "0 2019-09-10            162            26         148\n",
       "1 2019-09-11            224            36          41\n",
       "2 2019-09-12            244            97          94\n",
       "3 2019-09-13            238            45          50\n",
       "4 2019-09-14            304            32          65"
      ]
     },
     "execution_count": 9,
     "metadata": {},
     "output_type": "execute_result"
    }
   ],
   "source": [
    "activity_level_df.head()"
   ]
  },
  {
   "cell_type": "markdown",
   "metadata": {},
   "source": [
    "I now move on to gathering my sleep data. Once again, I start by creating an empty `sleep_summary_df` dataframe."
   ]
  },
  {
   "cell_type": "code",
   "execution_count": 10,
   "metadata": {},
   "outputs": [],
   "source": [
    "sleep_summary_df = pd.DataFrame()"
   ]
  },
  {
   "cell_type": "markdown",
   "metadata": {},
   "source": [
    "Here, I use the `time_series` method again, this time to access my sleep data. Unlike the activity data, I don't need to specify any separate levels or stages, so it's only this one single call."
   ]
  },
  {
   "cell_type": "code",
   "execution_count": 11,
   "metadata": {},
   "outputs": [],
   "source": [
    "sleep_data = auth2_client.time_series('sleep',\n",
    "                                      base_date = start_date,\n",
    "                                      end_date = end_date)"
   ]
  },
  {
   "cell_type": "markdown",
   "metadata": {},
   "source": [
    "The sleep data comes through as one large JSON object. Here's an idea of how much information it contains. (It's a lot!)"
   ]
  },
  {
   "cell_type": "code",
   "execution_count": 12,
   "metadata": {},
   "outputs": [
    {
     "data": {
      "text/plain": [
       "{'dateOfSleep': '2019-10-10',\n",
       " 'duration': 23760000,\n",
       " 'efficiency': 97,\n",
       " 'endTime': '2019-10-10T05:28:30.000',\n",
       " 'infoCode': 0,\n",
       " 'isMainSleep': True,\n",
       " 'levels': {'data': [{'dateTime': '2019-10-09T22:52:00.000',\n",
       "    'level': 'light',\n",
       "    'seconds': 1140},\n",
       "   {'dateTime': '2019-10-09T23:11:00.000', 'level': 'deep', 'seconds': 300},\n",
       "   {'dateTime': '2019-10-09T23:16:00.000', 'level': 'light', 'seconds': 1440},\n",
       "   {'dateTime': '2019-10-09T23:40:00.000', 'level': 'deep', 'seconds': 450},\n",
       "   {'dateTime': '2019-10-09T23:47:30.000', 'level': 'light', 'seconds': 1530},\n",
       "   {'dateTime': '2019-10-10T00:13:00.000', 'level': 'rem', 'seconds': 900},\n",
       "   {'dateTime': '2019-10-10T00:28:00.000', 'level': 'light', 'seconds': 1140},\n",
       "   {'dateTime': '2019-10-10T00:47:00.000', 'level': 'deep', 'seconds': 570},\n",
       "   {'dateTime': '2019-10-10T00:56:30.000', 'level': 'light', 'seconds': 540},\n",
       "   {'dateTime': '2019-10-10T01:05:30.000', 'level': 'deep', 'seconds': 1740},\n",
       "   {'dateTime': '2019-10-10T01:34:30.000', 'level': 'light', 'seconds': 690},\n",
       "   {'dateTime': '2019-10-10T01:46:00.000', 'level': 'rem', 'seconds': 1440},\n",
       "   {'dateTime': '2019-10-10T02:10:00.000', 'level': 'light', 'seconds': 1470},\n",
       "   {'dateTime': '2019-10-10T02:34:30.000', 'level': 'deep', 'seconds': 1290},\n",
       "   {'dateTime': '2019-10-10T02:56:00.000', 'level': 'light', 'seconds': 1530},\n",
       "   {'dateTime': '2019-10-10T03:21:30.000', 'level': 'rem', 'seconds': 2760},\n",
       "   {'dateTime': '2019-10-10T04:07:30.000', 'level': 'wake', 'seconds': 510},\n",
       "   {'dateTime': '2019-10-10T04:16:00.000', 'level': 'light', 'seconds': 3600},\n",
       "   {'dateTime': '2019-10-10T05:16:00.000', 'level': 'rem', 'seconds': 510},\n",
       "   {'dateTime': '2019-10-10T05:24:30.000', 'level': 'wake', 'seconds': 240}],\n",
       "  'shortData': [{'dateTime': '2019-10-09T22:55:00.000',\n",
       "    'level': 'wake',\n",
       "    'seconds': 30},\n",
       "   {'dateTime': '2019-10-09T22:57:00.000', 'level': 'wake', 'seconds': 30},\n",
       "   {'dateTime': '2019-10-09T23:17:00.000', 'level': 'wake', 'seconds': 150},\n",
       "   {'dateTime': '2019-10-09T23:49:30.000', 'level': 'wake', 'seconds': 30},\n",
       "   {'dateTime': '2019-10-10T00:03:00.000', 'level': 'wake', 'seconds': 60},\n",
       "   {'dateTime': '2019-10-10T00:28:00.000', 'level': 'wake', 'seconds': 30},\n",
       "   {'dateTime': '2019-10-10T01:34:00.000', 'level': 'wake', 'seconds': 30},\n",
       "   {'dateTime': '2019-10-10T01:57:30.000', 'level': 'wake', 'seconds': 30},\n",
       "   {'dateTime': '2019-10-10T02:11:30.000', 'level': 'wake', 'seconds': 30},\n",
       "   {'dateTime': '2019-10-10T02:27:00.000', 'level': 'wake', 'seconds': 30},\n",
       "   {'dateTime': '2019-10-10T03:09:30.000', 'level': 'wake', 'seconds': 60},\n",
       "   {'dateTime': '2019-10-10T03:16:00.000', 'level': 'wake', 'seconds': 30},\n",
       "   {'dateTime': '2019-10-10T03:36:00.000', 'level': 'wake', 'seconds': 30},\n",
       "   {'dateTime': '2019-10-10T03:45:00.000', 'level': 'wake', 'seconds': 30},\n",
       "   {'dateTime': '2019-10-10T04:27:00.000', 'level': 'wake', 'seconds': 60},\n",
       "   {'dateTime': '2019-10-10T04:44:30.000', 'level': 'wake', 'seconds': 90},\n",
       "   {'dateTime': '2019-10-10T05:10:30.000', 'level': 'wake', 'seconds': 150}],\n",
       "  'summary': {'deep': {'count': 5, 'minutes': 72, 'thirtyDayAvgMinutes': 74},\n",
       "   'light': {'count': 21, 'minutes': 205, 'thirtyDayAvgMinutes': 213},\n",
       "   'rem': {'count': 7, 'minutes': 92, 'thirtyDayAvgMinutes': 96},\n",
       "   'wake': {'count': 19, 'minutes': 27, 'thirtyDayAvgMinutes': 43}}},\n",
       " 'logId': 24209640030,\n",
       " 'minutesAfterWakeup': 0,\n",
       " 'minutesAsleep': 369,\n",
       " 'minutesAwake': 27,\n",
       " 'minutesToFallAsleep': 0,\n",
       " 'startTime': '2019-10-09T22:52:00.000',\n",
       " 'timeInBed': 396,\n",
       " 'type': 'stages'}"
      ]
     },
     "execution_count": 12,
     "metadata": {},
     "output_type": "execute_result"
    }
   ],
   "source": [
    "sleep_data['sleep'][0]"
   ]
  },
  {
   "cell_type": "markdown",
   "metadata": {},
   "source": [
    "Note that this is the **first** entry in the JSON object, but the **last** day in our range. Therefore, I loop through all of the sleep entries in reverse order and pull out \"summary\", \"efficiency\" and also make note of any nights I fell asleep after 11:00 PM (23h00). I usually try to turn out my light by 10:30 PM (22h30) at the latest, so any nights I fell asleep after 11:00 PM might clue me in to something that was keeping me up."
   ]
  },
  {
   "cell_type": "code",
   "execution_count": 13,
   "metadata": {},
   "outputs": [],
   "source": [
    "for date in sleep_data['sleep'][::-1]:\n",
    "    # Minutes in each stage\n",
    "    sleep_df = pd.DataFrame(date['levels']['summary']).loc['minutes']\n",
    "    # Sleep efficiency\n",
    "    sleep_df = sleep_df.append(pd.Series(date['efficiency']).\\\n",
    "                               rename({0: 'efficiency'}))\n",
    "    # Check if asleep before 11 (1 if True, 0 if False)\n",
    "    asleep_time = pd.to_datetime(date['startTime']).time()\n",
    "    sleep_df = sleep_df.append(pd.Series(\n",
    "                             int(asleep_time < datetime.time(23, 00, 00) and \\\n",
    "                                 asleep_time > datetime.time(4, 00, 00))).\\\n",
    "                             rename({0: 'before_11'}))\n",
    "    minutes_data = pd.Series(sleep_df.rename(date['dateOfSleep']))\n",
    "    sleep_summary_df = sleep_summary_df.append(minutes_data)"
   ]
  },
  {
   "cell_type": "markdown",
   "metadata": {},
   "source": [
    "From Fitbit's website, sleep \"efficiency\" is defined as:\n",
    "\n",
    "$$\\frac{Time\\ Asleep}{Total\\ Time\\ in\\ Bed\\ -\\ Time\\ to\\ Fall\\ Asleep}$$\n",
    "\n",
    "This is a bit of an odd calculation - imagine I'm having trouble falling asleep so I get up and pace around a bit. This isn't considered \"time in bed\", which might artificially inflate this score. Alternatively, imagine I'm in bed, sitting up reading until I'm basically asleep sitting up, then turn out my light. At what point does Fitbit start tracking my \"time to fall asleep\"? If it's the moment when I turn out my light, then it will be very close to 0 (since I'm waiting until I'm already basically asleep sitting up), which will once again artificially inflate this number.\n",
    "\n",
    "The point is, this might not be the most perfect value to look in a vacuum, so it is important to take all of our data together to get an idea of what's happening."
   ]
  },
  {
   "cell_type": "markdown",
   "metadata": {},
   "source": [
    "Here I do a little bit of clean up on the dataframe. Note the last command which subtracts one day from each of the days in the `dateTime` column. Fitbit reports the `dateOfSleep` as the date I wake up, **not** the date I fall asleep. Since I am interested in how my activity levels affect my sleep at night, by subtracting one day here I ensure the dataframes will match up when joined."
   ]
  },
  {
   "cell_type": "code",
   "execution_count": 14,
   "metadata": {},
   "outputs": [],
   "source": [
    "sleep_summary_df = sleep_summary_df[['efficiency', 'wake', 'light', 'deep',\n",
    "                                     'rem', 'awake', 'restless', 'asleep',\n",
    "                                     'before_11']]\n",
    "sleep_summary_df = sleep_summary_df.reset_index().\\\n",
    "                                   rename({'index':'dateTime'}, axis = 1)\n",
    "sleep_summary_df['dateTime'] = pd.to_datetime(sleep_summary_df['dateTime'])\n",
    "# Fitbit refers to the night of sleep by the date of the morning you wake up\n",
    "sleep_summary_df['dateTime'] = sleep_summary_df['dateTime'].apply(\n",
    "                               lambda x: x - datetime.timedelta(days = 1))"
   ]
  },
  {
   "cell_type": "markdown",
   "metadata": {},
   "source": [
    "Let's take a look at what my sleep summary dataframe now looks like."
   ]
  },
  {
   "cell_type": "code",
   "execution_count": 15,
   "metadata": {},
   "outputs": [
    {
     "data": {
      "text/html": [
       "<div>\n",
       "<style scoped>\n",
       "    .dataframe tbody tr th:only-of-type {\n",
       "        vertical-align: middle;\n",
       "    }\n",
       "\n",
       "    .dataframe tbody tr th {\n",
       "        vertical-align: top;\n",
       "    }\n",
       "\n",
       "    .dataframe thead th {\n",
       "        text-align: right;\n",
       "    }\n",
       "</style>\n",
       "<table border=\"1\" class=\"dataframe\">\n",
       "  <thead>\n",
       "    <tr style=\"text-align: right;\">\n",
       "      <th></th>\n",
       "      <th>dateTime</th>\n",
       "      <th>efficiency</th>\n",
       "      <th>wake</th>\n",
       "      <th>light</th>\n",
       "      <th>deep</th>\n",
       "      <th>rem</th>\n",
       "      <th>awake</th>\n",
       "      <th>restless</th>\n",
       "      <th>asleep</th>\n",
       "      <th>before_11</th>\n",
       "    </tr>\n",
       "  </thead>\n",
       "  <tbody>\n",
       "    <tr>\n",
       "      <td>0</td>\n",
       "      <td>2019-09-10</td>\n",
       "      <td>97.0</td>\n",
       "      <td>59.0</td>\n",
       "      <td>186.0</td>\n",
       "      <td>42.0</td>\n",
       "      <td>72.0</td>\n",
       "      <td>NaN</td>\n",
       "      <td>NaN</td>\n",
       "      <td>NaN</td>\n",
       "      <td>0.0</td>\n",
       "    </tr>\n",
       "    <tr>\n",
       "      <td>1</td>\n",
       "      <td>2019-09-11</td>\n",
       "      <td>96.0</td>\n",
       "      <td>55.0</td>\n",
       "      <td>195.0</td>\n",
       "      <td>78.0</td>\n",
       "      <td>102.0</td>\n",
       "      <td>NaN</td>\n",
       "      <td>NaN</td>\n",
       "      <td>NaN</td>\n",
       "      <td>1.0</td>\n",
       "    </tr>\n",
       "    <tr>\n",
       "      <td>2</td>\n",
       "      <td>2019-09-12</td>\n",
       "      <td>94.0</td>\n",
       "      <td>36.0</td>\n",
       "      <td>223.0</td>\n",
       "      <td>64.0</td>\n",
       "      <td>78.0</td>\n",
       "      <td>NaN</td>\n",
       "      <td>NaN</td>\n",
       "      <td>NaN</td>\n",
       "      <td>1.0</td>\n",
       "    </tr>\n",
       "    <tr>\n",
       "      <td>3</td>\n",
       "      <td>2019-09-13</td>\n",
       "      <td>94.0</td>\n",
       "      <td>NaN</td>\n",
       "      <td>NaN</td>\n",
       "      <td>NaN</td>\n",
       "      <td>NaN</td>\n",
       "      <td>10.0</td>\n",
       "      <td>19.0</td>\n",
       "      <td>407.0</td>\n",
       "      <td>0.0</td>\n",
       "    </tr>\n",
       "    <tr>\n",
       "      <td>4</td>\n",
       "      <td>2019-09-14</td>\n",
       "      <td>96.0</td>\n",
       "      <td>41.0</td>\n",
       "      <td>237.0</td>\n",
       "      <td>71.0</td>\n",
       "      <td>106.0</td>\n",
       "      <td>NaN</td>\n",
       "      <td>NaN</td>\n",
       "      <td>NaN</td>\n",
       "      <td>1.0</td>\n",
       "    </tr>\n",
       "  </tbody>\n",
       "</table>\n",
       "</div>"
      ],
      "text/plain": [
       "    dateTime  efficiency  wake  light  deep    rem  awake  restless  asleep  \\\n",
       "0 2019-09-10        97.0  59.0  186.0  42.0   72.0    NaN       NaN     NaN   \n",
       "1 2019-09-11        96.0  55.0  195.0  78.0  102.0    NaN       NaN     NaN   \n",
       "2 2019-09-12        94.0  36.0  223.0  64.0   78.0    NaN       NaN     NaN   \n",
       "3 2019-09-13        94.0   NaN    NaN   NaN    NaN   10.0      19.0   407.0   \n",
       "4 2019-09-14        96.0  41.0  237.0  71.0  106.0    NaN       NaN     NaN   \n",
       "\n",
       "   before_11  \n",
       "0        0.0  \n",
       "1        1.0  \n",
       "2        1.0  \n",
       "3        0.0  \n",
       "4        1.0  "
      ]
     },
     "execution_count": 15,
     "metadata": {},
     "output_type": "execute_result"
    }
   ],
   "source": [
    "sleep_summary_df.head()"
   ]
  },
  {
   "cell_type": "markdown",
   "metadata": {},
   "source": [
    "If Fitbit can't track my heart rate during the night, it can't assign a sleep stage to it, hence the \"awake\", \"restless\", \"asleep\" columns of mostly NaN's. This only happened twice during the month, so I think I can drop these columns (instead of carrying a bunch of NaN's through) and not lose much data. The data doesn't match up well with any of the other columns either, so it's not particularly useful."
   ]
  },
  {
   "cell_type": "markdown",
   "metadata": {},
   "source": [
    "Now I join the 2 dataframes, dropping the columns as mentioned above. I need to set the index of the `sleep_summary_df` to `dateTime` so that I can perform the join operation on that column."
   ]
  },
  {
   "cell_type": "code",
   "execution_count": 16,
   "metadata": {},
   "outputs": [],
   "source": [
    "df = activity_level_df.join(sleep_summary_df.drop(\n",
    "                            columns = ['asleep', 'awake', 'restless']).\\\n",
    "                            set_index('dateTime'),\n",
    "                            on = 'dateTime')"
   ]
  },
  {
   "cell_type": "code",
   "execution_count": 17,
   "metadata": {},
   "outputs": [
    {
     "data": {
      "text/html": [
       "<div>\n",
       "<style scoped>\n",
       "    .dataframe tbody tr th:only-of-type {\n",
       "        vertical-align: middle;\n",
       "    }\n",
       "\n",
       "    .dataframe tbody tr th {\n",
       "        vertical-align: top;\n",
       "    }\n",
       "\n",
       "    .dataframe thead th {\n",
       "        text-align: right;\n",
       "    }\n",
       "</style>\n",
       "<table border=\"1\" class=\"dataframe\">\n",
       "  <thead>\n",
       "    <tr style=\"text-align: right;\">\n",
       "      <th></th>\n",
       "      <th>dateTime</th>\n",
       "      <th>LightlyActive</th>\n",
       "      <th>FairlyActive</th>\n",
       "      <th>VeryActive</th>\n",
       "      <th>efficiency</th>\n",
       "      <th>wake</th>\n",
       "      <th>light</th>\n",
       "      <th>deep</th>\n",
       "      <th>rem</th>\n",
       "      <th>before_11</th>\n",
       "    </tr>\n",
       "  </thead>\n",
       "  <tbody>\n",
       "    <tr>\n",
       "      <td>0</td>\n",
       "      <td>2019-09-10</td>\n",
       "      <td>162</td>\n",
       "      <td>26</td>\n",
       "      <td>148</td>\n",
       "      <td>97.0</td>\n",
       "      <td>59.0</td>\n",
       "      <td>186.0</td>\n",
       "      <td>42.0</td>\n",
       "      <td>72.0</td>\n",
       "      <td>0.0</td>\n",
       "    </tr>\n",
       "    <tr>\n",
       "      <td>1</td>\n",
       "      <td>2019-09-11</td>\n",
       "      <td>224</td>\n",
       "      <td>36</td>\n",
       "      <td>41</td>\n",
       "      <td>96.0</td>\n",
       "      <td>55.0</td>\n",
       "      <td>195.0</td>\n",
       "      <td>78.0</td>\n",
       "      <td>102.0</td>\n",
       "      <td>1.0</td>\n",
       "    </tr>\n",
       "    <tr>\n",
       "      <td>2</td>\n",
       "      <td>2019-09-12</td>\n",
       "      <td>244</td>\n",
       "      <td>97</td>\n",
       "      <td>94</td>\n",
       "      <td>94.0</td>\n",
       "      <td>36.0</td>\n",
       "      <td>223.0</td>\n",
       "      <td>64.0</td>\n",
       "      <td>78.0</td>\n",
       "      <td>1.0</td>\n",
       "    </tr>\n",
       "    <tr>\n",
       "      <td>3</td>\n",
       "      <td>2019-09-13</td>\n",
       "      <td>238</td>\n",
       "      <td>45</td>\n",
       "      <td>50</td>\n",
       "      <td>94.0</td>\n",
       "      <td>NaN</td>\n",
       "      <td>NaN</td>\n",
       "      <td>NaN</td>\n",
       "      <td>NaN</td>\n",
       "      <td>0.0</td>\n",
       "    </tr>\n",
       "    <tr>\n",
       "      <td>4</td>\n",
       "      <td>2019-09-14</td>\n",
       "      <td>304</td>\n",
       "      <td>32</td>\n",
       "      <td>65</td>\n",
       "      <td>96.0</td>\n",
       "      <td>41.0</td>\n",
       "      <td>237.0</td>\n",
       "      <td>71.0</td>\n",
       "      <td>106.0</td>\n",
       "      <td>1.0</td>\n",
       "    </tr>\n",
       "  </tbody>\n",
       "</table>\n",
       "</div>"
      ],
      "text/plain": [
       "    dateTime  LightlyActive  FairlyActive  VeryActive  efficiency  wake  \\\n",
       "0 2019-09-10            162            26         148        97.0  59.0   \n",
       "1 2019-09-11            224            36          41        96.0  55.0   \n",
       "2 2019-09-12            244            97          94        94.0  36.0   \n",
       "3 2019-09-13            238            45          50        94.0   NaN   \n",
       "4 2019-09-14            304            32          65        96.0  41.0   \n",
       "\n",
       "   light  deep    rem  before_11  \n",
       "0  186.0  42.0   72.0        0.0  \n",
       "1  195.0  78.0  102.0        1.0  \n",
       "2  223.0  64.0   78.0        1.0  \n",
       "3    NaN   NaN    NaN        0.0  \n",
       "4  237.0  71.0  106.0        1.0  "
      ]
     },
     "execution_count": 17,
     "metadata": {},
     "output_type": "execute_result"
    }
   ],
   "source": [
    "df.head()"
   ]
  },
  {
   "cell_type": "markdown",
   "metadata": {},
   "source": [
    "Note the index in the dataframe gets reset to just a row number, despite setting it to the `dateTime` column above. This is actually what I want when I go to plot this dataframe. Since bar plots are categorical, while line plots are discrete, I can't actually use the `dateTime` column to plot my activity levels (as a bar plot) and sleep stages (as a line plot) directly. Instead, I plot the dataframe as is and change the x-labels afterwards."
   ]
  },
  {
   "cell_type": "code",
   "execution_count": 18,
   "metadata": {},
   "outputs": [
    {
     "data": {
      "image/png": "[encoded data removed]",
      "text/plain": [
       "<Figure size 720x720 with 2 Axes>"
      ]
     },
     "metadata": {
      "needs_background": "light"
     },
     "output_type": "display_data"
    }
   ],
   "source": [
    "fig, ax1 = plt.subplots(figsize = (10, 10))\n",
    "fig.suptitle('Sleep Efficiency vs. Activity Levels',\n",
    "             fontsize = 20)\n",
    "ax2 = plt.twinx(ax = ax1)\n",
    "df[['LightlyActive', 'FairlyActive', 'VeryActive']].plot(ax = ax1,\n",
    "                                                         kind = 'bar',\n",
    "                                                         stacked = True,\n",
    "                                                         cmap = 'Accent')\n",
    "df[['wake', 'light', 'deep', 'rem']].plot(ax = ax1,\n",
    "                                          linewidth = '2',\n",
    "                                          linestyle = '--',\n",
    "                                          marker = '.',\n",
    "                                          markersize = 10,\n",
    "                                          cmap = 'Set1')\n",
    "# Shade weekends\n",
    "for i, day in enumerate(df['dateTime']):\n",
    "    if day.weekday() / 4 == 1:\n",
    "        ax1.axvspan(i - 0.5, i + 1.5,\n",
    "                    facecolor = 'gray',\n",
    "                    alpha = 0.2)\n",
    "date_range = pd.date_range(start_date - datetime.timedelta(days = 2),\n",
    "                           end_date,\n",
    "                           freq = '2D')\n",
    "ax1.set_xticklabels(pd.Series(date_range).apply(lambda x: x.date()))\n",
    "ax1.xaxis.set_major_locator(ticker.MultipleLocator(2))\n",
    "ax1.set_ylabel('Sleep/Activity Minutes', fontsize = 15)\n",
    "df['efficiency'].plot(ax = ax2,\n",
    "                      linewidth = '4',\n",
    "                      color = 'k',\n",
    "                      label = 'Sleep Efficiency')\n",
    "# Plot markers where asleep after 11\n",
    "df[df['before_11'] == 0]['efficiency'].plot(kind = 'line',\n",
    "                                            marker = '^',\n",
    "                                            markersize = 10,\n",
    "                                            linestyle = 'none',\n",
    "                                            color = 'cyan',\n",
    "                                            label = 'Asleep after 11PM')\n",
    "# Plot markers where unable to fall asleep\n",
    "df[df['dateTime'].isin(no_sleep)]['efficiency'].\\\n",
    "                                  plot(kind = 'line',\n",
    "                                  marker = 'o',\n",
    "                                  markersize = 17,\n",
    "                                  fillstyle = 'none',\n",
    "                                  linestyle = 'none',\n",
    "                                  color = 'red',\n",
    "                                  markeredgewidth = 2,\n",
    "                                  label = 'Trouble sleeping')\n",
    "\n",
    "ax2.set_ylim(50, 100)\n",
    "ax2.set_ylabel('Sleep Efficiency', fontsize = 15)\n",
    "lines_1, labels_1 = ax1.get_legend_handles_labels()\n",
    "lines_2, labels_2 = ax2.get_legend_handles_labels()\n",
    "ax1.legend(lines_1 + lines_2,\n",
    "           labels_1 + labels_2,\n",
    "           loc = 'lower center',\n",
    "           bbox_to_anchor = (0.5, 1.0),\n",
    "           ncol = 5,\n",
    "           fancybox = True,\n",
    "           shadow = True)\n",
    "fig.autofmt_xdate()\n",
    "plt.show()"
   ]
  },
  {
   "cell_type": "markdown",
   "metadata": {},
   "source": [
    "Voila! My activity levels are shown in the bar plot, sleep stages in the dashed line plot, and sleep efficiency in the solid black. Red circles indicate nights I was unable to fall asleep or woke up and couldn't fall back asleep.\n",
    "Unfortunately, it doesn't look like my daily activity output has much impact on how well I sleep at night, at least for these 2 data points. On 9/13, I was roughly active an average amount throughout the day, but couldn't fall asleep. On 9/22, I was the most active I had been all month, but woke up and then couldn't fall back asleep. It's possible if I ran this experiment for more time I might find a relationship, but the step challenge ended and I wanted to go back to wearing normal watches.\n",
    "Also, it's worth it to note that there are many other things unrelated to activity output (e.g. stress throughout the day) that could affect my sleep which Fitbit does not capture."
   ]
  }
 ],
 "metadata": {
  "kernelspec": {
   "display_name": "Python 3",
   "language": "python",
   "name": "python3"
  },
  "language_info": {
   "codemirror_mode": {
    "name": "ipython",
    "version": 3
   },
   "file_extension": ".py",
   "mimetype": "text/x-python",
   "name": "python",
   "nbconvert_exporter": "python",
   "pygments_lexer": "ipython3",
   "version": "3.7.4"
  }
 },
 "nbformat": 4,
 "nbformat_minor": 2
}
