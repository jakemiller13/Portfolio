{
 "cells": [
  {
   "cell_type": "markdown",
   "metadata": {},
   "source": [
    "# 2020 Wellness Survey Analysis"
   ]
  },
  {
   "cell_type": "markdown",
   "metadata": {},
   "source": [
    "As head of the Wellness Committee at my company, we are responsible for hosting weekly fitness classes, company-wide step challenges, maintaining the on-site gym, etc. Our goal is to provide our employees with as many wellness-related resources as possible, both physical and mental. To make sure we are providing the activities and resources that employees want, we send out an anonymous survey 1-2 times per year asking for feedback on our offerings.\n",
    "\n",
    "The following 10 question survey was sent out at the beginning of 2020, asking for feedback on our 2019 offerings. In 2019, we offered 3 fitness classes per week (yoga, Pilates, bootcamp) and 2 step challenges, as well as several gym upgrades. 5 survey questions asked for simple rating responses while 5 were open-text responses. The questions were as follows:\n",
    "\n",
    "1. On a scale of 1 through 5, please rate how much you enjoy the Step Challenges. If you do not participate please select N/A.\n",
    "2. What can we do to improve the Step Challenges?\n",
    "3. How satisfied are you with the Fit Lab classes? Please select N/A if you do not attend.\n",
    "4. What could we do to improve the Fit Lab classes here?\n",
    "5. How satisfied are you with the Pilates classes? Please select N/A if you do not attend.\n",
    "6. What can we do to improve the Pilates classes here?\n",
    "7. How satisfied are you with the Yoga classes? Please select N/A if you do not attend.\n",
    "8. What could we do to improve the Yoga classes here?\n",
    "9. How often do you use the Gym?\n",
    "10. What can we do to improve the Gym?\n",
    "\n",
    "In this project, I first present an overview of the ratings responses for the classes/step challenges/gym. I then use both natural language processing (NLP) and basic text analysis to take a deeper dive into the text responses and see what other information I can pull out."
   ]
  },
  {
   "cell_type": "markdown",
   "metadata": {},
   "source": [
    "### Data Import and Setup/Cleaning"
   ]
  },
  {
   "cell_type": "markdown",
   "metadata": {},
   "source": [
    "Start with basic package imports:"
   ]
  },
  {
   "cell_type": "code",
   "execution_count": 1,
   "metadata": {},
   "outputs": [],
   "source": [
    "import pandas as pd\n",
    "import matplotlib.pyplot as plt\n",
    "from sklearn.feature_extraction.text import CountVectorizer\n",
    "from sklearn.decomposition import LatentDirichletAllocation"
   ]
  },
  {
   "cell_type": "markdown",
   "metadata": {},
   "source": [
    "Read in data:"
   ]
  },
  {
   "cell_type": "code",
   "execution_count": 2,
   "metadata": {},
   "outputs": [
    {
     "data": {
      "text/html": [
       "<div>\n",
       "<style scoped>\n",
       "    .dataframe tbody tr th:only-of-type {\n",
       "        vertical-align: middle;\n",
       "    }\n",
       "\n",
       "    .dataframe tbody tr th {\n",
       "        vertical-align: top;\n",
       "    }\n",
       "\n",
       "    .dataframe thead th {\n",
       "        text-align: right;\n",
       "    }\n",
       "</style>\n",
       "<table border=\"1\" class=\"dataframe\">\n",
       "  <thead>\n",
       "    <tr style=\"text-align: right;\">\n",
       "      <th></th>\n",
       "      <th>Respondent ID</th>\n",
       "      <th>Collector ID</th>\n",
       "      <th>Start Date</th>\n",
       "      <th>End Date</th>\n",
       "      <th>IP Address</th>\n",
       "      <th>Email Address</th>\n",
       "      <th>First Name</th>\n",
       "      <th>Last Name</th>\n",
       "      <th>Custom Data 1</th>\n",
       "      <th>On a scale of 1 through 5, please rate how much you enjoy the Step Challenges. If you do not participate please select N/A.</th>\n",
       "      <th>What can we do to improve the Step Challenges?</th>\n",
       "      <th>How satisfied are you with the Fit Lab classes? Please select N/A if you do not attend.</th>\n",
       "      <th>What could we do to improve the Fit Lab classes here?</th>\n",
       "      <th>How satisfied are you with the Pilates classes? Please select N/A if you do not attend.</th>\n",
       "      <th>What can we do to improve the Pilates classes here?</th>\n",
       "      <th>How satisfied are you with the Yoga classes? Please select N/A if you do not attend.</th>\n",
       "      <th>What could we do to improve the Yoga classes here?</th>\n",
       "      <th>How often do you use the Gym?</th>\n",
       "      <th>What can we do to improve the Gym?</th>\n",
       "    </tr>\n",
       "  </thead>\n",
       "  <tbody>\n",
       "    <tr>\n",
       "      <th>0</th>\n",
       "      <td>11413624784</td>\n",
       "      <td>254096274</td>\n",
       "      <td>2020-03-12 11:24:56</td>\n",
       "      <td>2020-03-12 11:25:32</td>\n",
       "      <td>74.118.25.106</td>\n",
       "      <td>NaN</td>\n",
       "      <td>NaN</td>\n",
       "      <td>NaN</td>\n",
       "      <td>NaN</td>\n",
       "      <td>I really enjoy them</td>\n",
       "      <td>NaN</td>\n",
       "      <td>Very Satisfied</td>\n",
       "      <td>NaN</td>\n",
       "      <td>Very Satisfied</td>\n",
       "      <td>NaN</td>\n",
       "      <td>Very Satisfied</td>\n",
       "      <td>NaN</td>\n",
       "      <td>Frequently</td>\n",
       "      <td>Make it larger!</td>\n",
       "    </tr>\n",
       "    <tr>\n",
       "      <th>1</th>\n",
       "      <td>11404071123</td>\n",
       "      <td>254096274</td>\n",
       "      <td>2020-03-09 10:47:33</td>\n",
       "      <td>2020-03-09 10:48:28</td>\n",
       "      <td>74.118.25.106</td>\n",
       "      <td>NaN</td>\n",
       "      <td>NaN</td>\n",
       "      <td>NaN</td>\n",
       "      <td>NaN</td>\n",
       "      <td>4</td>\n",
       "      <td>NaN</td>\n",
       "      <td>NaN</td>\n",
       "      <td>NaN</td>\n",
       "      <td>NaN</td>\n",
       "      <td>NaN</td>\n",
       "      <td>NaN</td>\n",
       "      <td>NaN</td>\n",
       "      <td>Never</td>\n",
       "      <td>NaN</td>\n",
       "    </tr>\n",
       "    <tr>\n",
       "      <th>2</th>\n",
       "      <td>11403856422</td>\n",
       "      <td>254096274</td>\n",
       "      <td>2020-03-09 09:38:19</td>\n",
       "      <td>2020-03-09 09:40:48</td>\n",
       "      <td>50.239.43.202</td>\n",
       "      <td>NaN</td>\n",
       "      <td>NaN</td>\n",
       "      <td>NaN</td>\n",
       "      <td>NaN</td>\n",
       "      <td>4</td>\n",
       "      <td>People need to be more engaged.  I think a lot...</td>\n",
       "      <td>NaN</td>\n",
       "      <td>NaN</td>\n",
       "      <td>NaN</td>\n",
       "      <td>NaN</td>\n",
       "      <td>NaN</td>\n",
       "      <td>NaN</td>\n",
       "      <td>Never</td>\n",
       "      <td>Nothing, i just don't have time to use it.</td>\n",
       "    </tr>\n",
       "    <tr>\n",
       "      <th>3</th>\n",
       "      <td>11399447700</td>\n",
       "      <td>254096274</td>\n",
       "      <td>2020-03-06 18:04:18</td>\n",
       "      <td>2020-03-06 18:05:46</td>\n",
       "      <td>67.185.157.6</td>\n",
       "      <td>NaN</td>\n",
       "      <td>NaN</td>\n",
       "      <td>NaN</td>\n",
       "      <td>NaN</td>\n",
       "      <td>4</td>\n",
       "      <td>Get the field more involved.  Don't forget abo...</td>\n",
       "      <td>NaN</td>\n",
       "      <td>NaN</td>\n",
       "      <td>NaN</td>\n",
       "      <td>NaN</td>\n",
       "      <td>NaN</td>\n",
       "      <td>NaN</td>\n",
       "      <td>Never</td>\n",
       "      <td>Field Based...</td>\n",
       "    </tr>\n",
       "    <tr>\n",
       "      <th>4</th>\n",
       "      <td>11399081559</td>\n",
       "      <td>254096274</td>\n",
       "      <td>2020-03-06 15:18:22</td>\n",
       "      <td>2020-03-06 15:19:08</td>\n",
       "      <td>108.49.157.56</td>\n",
       "      <td>NaN</td>\n",
       "      <td>NaN</td>\n",
       "      <td>NaN</td>\n",
       "      <td>NaN</td>\n",
       "      <td>I really enjoy them</td>\n",
       "      <td>Keep the games coming!</td>\n",
       "      <td>4</td>\n",
       "      <td>More diversity in exercises</td>\n",
       "      <td>NaN</td>\n",
       "      <td>NaN</td>\n",
       "      <td>NaN</td>\n",
       "      <td>NaN</td>\n",
       "      <td>Sometimes</td>\n",
       "      <td>Option to play music?</td>\n",
       "    </tr>\n",
       "  </tbody>\n",
       "</table>\n",
       "</div>"
      ],
      "text/plain": [
       "   Respondent ID  Collector ID          Start Date            End Date  \\\n",
       "0    11413624784     254096274 2020-03-12 11:24:56 2020-03-12 11:25:32   \n",
       "1    11404071123     254096274 2020-03-09 10:47:33 2020-03-09 10:48:28   \n",
       "2    11403856422     254096274 2020-03-09 09:38:19 2020-03-09 09:40:48   \n",
       "3    11399447700     254096274 2020-03-06 18:04:18 2020-03-06 18:05:46   \n",
       "4    11399081559     254096274 2020-03-06 15:18:22 2020-03-06 15:19:08   \n",
       "\n",
       "      IP Address  Email Address  First Name  Last Name  Custom Data 1  \\\n",
       "0  74.118.25.106            NaN         NaN        NaN            NaN   \n",
       "1  74.118.25.106            NaN         NaN        NaN            NaN   \n",
       "2  50.239.43.202            NaN         NaN        NaN            NaN   \n",
       "3   67.185.157.6            NaN         NaN        NaN            NaN   \n",
       "4  108.49.157.56            NaN         NaN        NaN            NaN   \n",
       "\n",
       "  On a scale of 1 through 5, please rate how much you enjoy the Step Challenges. If you do not participate please select N/A.  \\\n",
       "0                                I really enjoy them                                                                            \n",
       "1                                                  4                                                                            \n",
       "2                                                  4                                                                            \n",
       "3                                                  4                                                                            \n",
       "4                                I really enjoy them                                                                            \n",
       "\n",
       "      What can we do to improve the Step Challenges?  \\\n",
       "0                                                NaN   \n",
       "1                                                NaN   \n",
       "2  People need to be more engaged.  I think a lot...   \n",
       "3  Get the field more involved.  Don't forget abo...   \n",
       "4                             Keep the games coming!   \n",
       "\n",
       "  How satisfied are you with the Fit Lab classes? Please select N/A if you do not attend.  \\\n",
       "0                                     Very Satisfied                                        \n",
       "1                                                NaN                                        \n",
       "2                                                NaN                                        \n",
       "3                                                NaN                                        \n",
       "4                                                  4                                        \n",
       "\n",
       "  What could we do to improve the Fit Lab classes here?  \\\n",
       "0                                                NaN      \n",
       "1                                                NaN      \n",
       "2                                                NaN      \n",
       "3                                                NaN      \n",
       "4                        More diversity in exercises      \n",
       "\n",
       "  How satisfied are you with the Pilates classes? Please select N/A if you do not attend.  \\\n",
       "0                                     Very Satisfied                                        \n",
       "1                                                NaN                                        \n",
       "2                                                NaN                                        \n",
       "3                                                NaN                                        \n",
       "4                                                NaN                                        \n",
       "\n",
       "  What can we do to improve the Pilates classes here?  \\\n",
       "0                                                NaN    \n",
       "1                                                NaN    \n",
       "2                                                NaN    \n",
       "3                                                NaN    \n",
       "4                                                NaN    \n",
       "\n",
       "  How satisfied are you with the Yoga classes? Please select N/A if you do not attend.  \\\n",
       "0                                     Very Satisfied                                     \n",
       "1                                                NaN                                     \n",
       "2                                                NaN                                     \n",
       "3                                                NaN                                     \n",
       "4                                                NaN                                     \n",
       "\n",
       "  What could we do to improve the Yoga classes here?  \\\n",
       "0                                                NaN   \n",
       "1                                                NaN   \n",
       "2                                                NaN   \n",
       "3                                                NaN   \n",
       "4                                                NaN   \n",
       "\n",
       "  How often do you use the Gym?          What can we do to improve the Gym?  \n",
       "0                    Frequently                             Make it larger!  \n",
       "1                         Never                                         NaN  \n",
       "2                         Never  Nothing, i just don't have time to use it.  \n",
       "3                         Never                              Field Based...  \n",
       "4                     Sometimes                       Option to play music?  "
      ]
     },
     "execution_count": 2,
     "metadata": {},
     "output_type": "execute_result"
    }
   ],
   "source": [
    "df = pd.read_excel('2020_Wellness_Survey.xlsx', skiprows = [1])\n",
    "df.head()"
   ]
  },
  {
   "cell_type": "markdown",
   "metadata": {},
   "source": [
    "None of the questions in the survey were \"required responses,\" so it was up to the individual survey takers whether they chose to respond or not. I am therefore left with many `NaN`s, but I don't want to drop them as there is still plenty of useful information. There are, however, a bunch of columns that don't carry any useful information. I drop those here:"
   ]
  },
  {
   "cell_type": "code",
   "execution_count": 3,
   "metadata": {},
   "outputs": [
    {
     "data": {
      "text/html": [
       "<div>\n",
       "<style scoped>\n",
       "    .dataframe tbody tr th:only-of-type {\n",
       "        vertical-align: middle;\n",
       "    }\n",
       "\n",
       "    .dataframe tbody tr th {\n",
       "        vertical-align: top;\n",
       "    }\n",
       "\n",
       "    .dataframe thead th {\n",
       "        text-align: right;\n",
       "    }\n",
       "</style>\n",
       "<table border=\"1\" class=\"dataframe\">\n",
       "  <thead>\n",
       "    <tr style=\"text-align: right;\">\n",
       "      <th></th>\n",
       "      <th>Respondent ID</th>\n",
       "      <th>Start Date</th>\n",
       "      <th>End Date</th>\n",
       "      <th>On a scale of 1 through 5, please rate how much you enjoy the Step Challenges. If you do not participate please select N/A.</th>\n",
       "      <th>What can we do to improve the Step Challenges?</th>\n",
       "      <th>How satisfied are you with the Fit Lab classes? Please select N/A if you do not attend.</th>\n",
       "      <th>What could we do to improve the Fit Lab classes here?</th>\n",
       "      <th>How satisfied are you with the Pilates classes? Please select N/A if you do not attend.</th>\n",
       "      <th>What can we do to improve the Pilates classes here?</th>\n",
       "      <th>How satisfied are you with the Yoga classes? Please select N/A if you do not attend.</th>\n",
       "      <th>What could we do to improve the Yoga classes here?</th>\n",
       "      <th>How often do you use the Gym?</th>\n",
       "      <th>What can we do to improve the Gym?</th>\n",
       "    </tr>\n",
       "  </thead>\n",
       "  <tbody>\n",
       "    <tr>\n",
       "      <th>0</th>\n",
       "      <td>11413624784</td>\n",
       "      <td>2020-03-12 11:24:56</td>\n",
       "      <td>2020-03-12 11:25:32</td>\n",
       "      <td>I really enjoy them</td>\n",
       "      <td>NaN</td>\n",
       "      <td>Very Satisfied</td>\n",
       "      <td>NaN</td>\n",
       "      <td>Very Satisfied</td>\n",
       "      <td>NaN</td>\n",
       "      <td>Very Satisfied</td>\n",
       "      <td>NaN</td>\n",
       "      <td>Frequently</td>\n",
       "      <td>Make it larger!</td>\n",
       "    </tr>\n",
       "    <tr>\n",
       "      <th>1</th>\n",
       "      <td>11404071123</td>\n",
       "      <td>2020-03-09 10:47:33</td>\n",
       "      <td>2020-03-09 10:48:28</td>\n",
       "      <td>4</td>\n",
       "      <td>NaN</td>\n",
       "      <td>NaN</td>\n",
       "      <td>NaN</td>\n",
       "      <td>NaN</td>\n",
       "      <td>NaN</td>\n",
       "      <td>NaN</td>\n",
       "      <td>NaN</td>\n",
       "      <td>Never</td>\n",
       "      <td>NaN</td>\n",
       "    </tr>\n",
       "    <tr>\n",
       "      <th>2</th>\n",
       "      <td>11403856422</td>\n",
       "      <td>2020-03-09 09:38:19</td>\n",
       "      <td>2020-03-09 09:40:48</td>\n",
       "      <td>4</td>\n",
       "      <td>People need to be more engaged.  I think a lot...</td>\n",
       "      <td>NaN</td>\n",
       "      <td>NaN</td>\n",
       "      <td>NaN</td>\n",
       "      <td>NaN</td>\n",
       "      <td>NaN</td>\n",
       "      <td>NaN</td>\n",
       "      <td>Never</td>\n",
       "      <td>Nothing, i just don't have time to use it.</td>\n",
       "    </tr>\n",
       "    <tr>\n",
       "      <th>3</th>\n",
       "      <td>11399447700</td>\n",
       "      <td>2020-03-06 18:04:18</td>\n",
       "      <td>2020-03-06 18:05:46</td>\n",
       "      <td>4</td>\n",
       "      <td>Get the field more involved.  Don't forget abo...</td>\n",
       "      <td>NaN</td>\n",
       "      <td>NaN</td>\n",
       "      <td>NaN</td>\n",
       "      <td>NaN</td>\n",
       "      <td>NaN</td>\n",
       "      <td>NaN</td>\n",
       "      <td>Never</td>\n",
       "      <td>Field Based...</td>\n",
       "    </tr>\n",
       "    <tr>\n",
       "      <th>4</th>\n",
       "      <td>11399081559</td>\n",
       "      <td>2020-03-06 15:18:22</td>\n",
       "      <td>2020-03-06 15:19:08</td>\n",
       "      <td>I really enjoy them</td>\n",
       "      <td>Keep the games coming!</td>\n",
       "      <td>4</td>\n",
       "      <td>More diversity in exercises</td>\n",
       "      <td>NaN</td>\n",
       "      <td>NaN</td>\n",
       "      <td>NaN</td>\n",
       "      <td>NaN</td>\n",
       "      <td>Sometimes</td>\n",
       "      <td>Option to play music?</td>\n",
       "    </tr>\n",
       "  </tbody>\n",
       "</table>\n",
       "</div>"
      ],
      "text/plain": [
       "   Respondent ID          Start Date            End Date  \\\n",
       "0    11413624784 2020-03-12 11:24:56 2020-03-12 11:25:32   \n",
       "1    11404071123 2020-03-09 10:47:33 2020-03-09 10:48:28   \n",
       "2    11403856422 2020-03-09 09:38:19 2020-03-09 09:40:48   \n",
       "3    11399447700 2020-03-06 18:04:18 2020-03-06 18:05:46   \n",
       "4    11399081559 2020-03-06 15:18:22 2020-03-06 15:19:08   \n",
       "\n",
       "  On a scale of 1 through 5, please rate how much you enjoy the Step Challenges. If you do not participate please select N/A.  \\\n",
       "0                                I really enjoy them                                                                            \n",
       "1                                                  4                                                                            \n",
       "2                                                  4                                                                            \n",
       "3                                                  4                                                                            \n",
       "4                                I really enjoy them                                                                            \n",
       "\n",
       "      What can we do to improve the Step Challenges?  \\\n",
       "0                                                NaN   \n",
       "1                                                NaN   \n",
       "2  People need to be more engaged.  I think a lot...   \n",
       "3  Get the field more involved.  Don't forget abo...   \n",
       "4                             Keep the games coming!   \n",
       "\n",
       "  How satisfied are you with the Fit Lab classes? Please select N/A if you do not attend.  \\\n",
       "0                                     Very Satisfied                                        \n",
       "1                                                NaN                                        \n",
       "2                                                NaN                                        \n",
       "3                                                NaN                                        \n",
       "4                                                  4                                        \n",
       "\n",
       "  What could we do to improve the Fit Lab classes here?  \\\n",
       "0                                                NaN      \n",
       "1                                                NaN      \n",
       "2                                                NaN      \n",
       "3                                                NaN      \n",
       "4                        More diversity in exercises      \n",
       "\n",
       "  How satisfied are you with the Pilates classes? Please select N/A if you do not attend.  \\\n",
       "0                                     Very Satisfied                                        \n",
       "1                                                NaN                                        \n",
       "2                                                NaN                                        \n",
       "3                                                NaN                                        \n",
       "4                                                NaN                                        \n",
       "\n",
       "  What can we do to improve the Pilates classes here?  \\\n",
       "0                                                NaN    \n",
       "1                                                NaN    \n",
       "2                                                NaN    \n",
       "3                                                NaN    \n",
       "4                                                NaN    \n",
       "\n",
       "  How satisfied are you with the Yoga classes? Please select N/A if you do not attend.  \\\n",
       "0                                     Very Satisfied                                     \n",
       "1                                                NaN                                     \n",
       "2                                                NaN                                     \n",
       "3                                                NaN                                     \n",
       "4                                                NaN                                     \n",
       "\n",
       "  What could we do to improve the Yoga classes here?  \\\n",
       "0                                                NaN   \n",
       "1                                                NaN   \n",
       "2                                                NaN   \n",
       "3                                                NaN   \n",
       "4                                                NaN   \n",
       "\n",
       "  How often do you use the Gym?          What can we do to improve the Gym?  \n",
       "0                    Frequently                             Make it larger!  \n",
       "1                         Never                                         NaN  \n",
       "2                         Never  Nothing, i just don't have time to use it.  \n",
       "3                         Never                              Field Based...  \n",
       "4                     Sometimes                       Option to play music?  "
      ]
     },
     "execution_count": 3,
     "metadata": {},
     "output_type": "execute_result"
    }
   ],
   "source": [
    "df = df.drop(['Collector ID', 'IP Address', 'Email Address',\n",
    "              'First Name', 'Last Name', 'Custom Data 1'], axis = 1)\n",
    "df.head()"
   ]
  },
  {
   "cell_type": "markdown",
   "metadata": {},
   "source": [
    "Rename the columns for easier reference. Note the abbreviations:\n",
    "\n",
    "**SC = Step Challenge**\n",
    "\n",
    "**FL = Fit Lab (our equivalent of a bootcamp)**\n",
    "\n",
    "**PI = Pilates**\n",
    "\n",
    "**YO = Yoga**"
   ]
  },
  {
   "cell_type": "code",
   "execution_count": 4,
   "metadata": {},
   "outputs": [],
   "source": [
    "df.columns = ['Respondent_ID',\n",
    "              'Start_Date',\n",
    "              'End_Date',\n",
    "              'SC_Rating',\n",
    "              'SC_Text',\n",
    "              'FL_Rating',\n",
    "              'FL_Text',\n",
    "              'PI_Rating',\n",
    "              'PI_Text',\n",
    "              'YO_Rating',\n",
    "              'YO_Text',\n",
    "              'Gym_Use',\n",
    "              'Gym_Text']"
   ]
  },
  {
   "cell_type": "markdown",
   "metadata": {},
   "source": [
    "### Data Exploration/Analysis of Classes and Step Challenges"
   ]
  },
  {
   "cell_type": "markdown",
   "metadata": {},
   "source": [
    "Let's see how many total responses were logged:"
   ]
  },
  {
   "cell_type": "code",
   "execution_count": 5,
   "metadata": {},
   "outputs": [
    {
     "name": "stdout",
     "output_type": "stream",
     "text": [
      "Total Responses: 104\n"
     ]
    }
   ],
   "source": [
    "print('Total Responses: {}'.format(len(df)))"
   ]
  },
  {
   "cell_type": "markdown",
   "metadata": {},
   "source": [
    "I also want to ensure no one is taking the survey more than once and potentially swaying the results:"
   ]
  },
  {
   "cell_type": "code",
   "execution_count": 6,
   "metadata": {},
   "outputs": [
    {
     "name": "stdout",
     "output_type": "stream",
     "text": [
      "Duplicate IDs: 0\n"
     ]
    }
   ],
   "source": [
    "print('Duplicate IDs: {}'.format(df['Respondent_ID'].duplicated().sum()))"
   ]
  },
  {
   "cell_type": "markdown",
   "metadata": {},
   "source": [
    "The following function prints out the ratings for each of the 3 classes and the step challenges. I wrap this into a function because, as you will see, not all of the ratings are actually logged as numerical. I will subsequently translate the non-numerical responses into equivalent numerical ratings so they can be appropriately analyzed:"
   ]
  },
  {
   "cell_type": "code",
   "execution_count": 7,
   "metadata": {},
   "outputs": [],
   "source": [
    "def print_ratings(df):\n",
    "    '''\n",
    "    Prints out ratings for each class and step challenge\n",
    "    '''\n",
    "    print('--- Step Challenge Ratings ---\\n{}'.format(df['SC_Rating'].\n",
    "                                                        value_counts()))\n",
    "    print('\\n--- Fit Lab Ratings ---\\n{}'.format(df['FL_Rating'].\n",
    "                                                 value_counts()))\n",
    "    print('\\n--- Pilates Ratings ---\\n{}'.format(df['PI_Rating'].\n",
    "                                                 value_counts()))\n",
    "    print('\\n--- Yoga Ratings ---\\n{}'.format(df['YO_Rating'].\n",
    "                                              value_counts()))"
   ]
  },
  {
   "cell_type": "code",
   "execution_count": 8,
   "metadata": {},
   "outputs": [
    {
     "name": "stdout",
     "output_type": "stream",
     "text": [
      "--- Step Challenge Ratings ---\n",
      "I really enjoy them    33\n",
      "4                      21\n",
      "Neutral                10\n",
      "Name: SC_Rating, dtype: int64\n",
      "\n",
      "--- Fit Lab Ratings ---\n",
      "Very Satisfied    14\n",
      "Neutral            9\n",
      "4                  9\n",
      "Dissatisfied       2\n",
      "Name: FL_Rating, dtype: int64\n",
      "\n",
      "--- Pilates Ratings ---\n",
      "Very Satisfied    16\n",
      "Neutral            4\n",
      "4                  4\n",
      "Dissatisfied       1\n",
      "Name: PI_Rating, dtype: int64\n",
      "\n",
      "--- Yoga Ratings ---\n",
      "Very Satisfied    11\n",
      "4                  9\n",
      "Neutral            4\n",
      "2                  1\n",
      "Name: YO_Rating, dtype: int64\n"
     ]
    }
   ],
   "source": [
    "print_ratings(df)"
   ]
  },
  {
   "cell_type": "markdown",
   "metadata": {},
   "source": [
    "This function translates any text-based responses into numerical ratings:"
   ]
  },
  {
   "cell_type": "code",
   "execution_count": 9,
   "metadata": {},
   "outputs": [],
   "source": [
    "def text_to_num(df):\n",
    "    '''\n",
    "    Parameters\n",
    "    ----------\n",
    "    df : input dataframe\n",
    "        Translates str (e.g. \"Dissatisfied\") to float (e.g. 1.0)\n",
    "\n",
    "    Returns\n",
    "    -------\n",
    "    altered dataframe\n",
    "\n",
    "    '''\n",
    "    text_num_dict = {'I really enjoy them': 5,\n",
    "                     'Very Satisfied': 5,\n",
    "                     'Neutral': 3,\n",
    "                     'Dissatisfied': 1}\n",
    "    df['SC_Rating'] = df['SC_Rating'].apply(lambda x: text_num_dict[x]\n",
    "                                            if x in text_num_dict else x)\n",
    "    df['FL_Rating'] = df['FL_Rating'].apply(lambda x: text_num_dict[x]\n",
    "                                            if x in text_num_dict else x)\n",
    "    df['PI_Rating'] = df['PI_Rating'].apply(lambda x: text_num_dict[x]\n",
    "                                            if x in text_num_dict else x)\n",
    "    df['YO_Rating'] = df['YO_Rating'].apply(lambda x: text_num_dict[x]\n",
    "                                            if x in text_num_dict else x)\n",
    "    return df"
   ]
  },
  {
   "cell_type": "markdown",
   "metadata": {},
   "source": [
    "Check the ratings again, after translating text-based responses:"
   ]
  },
  {
   "cell_type": "code",
   "execution_count": 10,
   "metadata": {},
   "outputs": [
    {
     "name": "stdout",
     "output_type": "stream",
     "text": [
      "--- Step Challenge Ratings ---\n",
      "5.0    33\n",
      "4.0    21\n",
      "3.0    10\n",
      "Name: SC_Rating, dtype: int64\n",
      "\n",
      "--- Fit Lab Ratings ---\n",
      "5.0    14\n",
      "3.0     9\n",
      "4.0     9\n",
      "1.0     2\n",
      "Name: FL_Rating, dtype: int64\n",
      "\n",
      "--- Pilates Ratings ---\n",
      "5.0    16\n",
      "4.0     4\n",
      "3.0     4\n",
      "1.0     1\n",
      "Name: PI_Rating, dtype: int64\n",
      "\n",
      "--- Yoga Ratings ---\n",
      "5.0    11\n",
      "4.0     9\n",
      "3.0     4\n",
      "2.0     1\n",
      "Name: YO_Rating, dtype: int64\n"
     ]
    }
   ],
   "source": [
    "df = text_to_num(df)\n",
    "print_ratings(df)"
   ]
  },
  {
   "cell_type": "markdown",
   "metadata": {},
   "source": [
    "Having translated all text ratings to numerical, I can now get summary statistics on the data:"
   ]
  },
  {
   "cell_type": "code",
   "execution_count": 11,
   "metadata": {},
   "outputs": [
    {
     "data": {
      "text/html": [
       "<div>\n",
       "<style scoped>\n",
       "    .dataframe tbody tr th:only-of-type {\n",
       "        vertical-align: middle;\n",
       "    }\n",
       "\n",
       "    .dataframe tbody tr th {\n",
       "        vertical-align: top;\n",
       "    }\n",
       "\n",
       "    .dataframe thead th {\n",
       "        text-align: right;\n",
       "    }\n",
       "</style>\n",
       "<table border=\"1\" class=\"dataframe\">\n",
       "  <thead>\n",
       "    <tr style=\"text-align: right;\">\n",
       "      <th></th>\n",
       "      <th>Respondent_ID</th>\n",
       "      <th>SC_Rating</th>\n",
       "      <th>FL_Rating</th>\n",
       "      <th>PI_Rating</th>\n",
       "      <th>YO_Rating</th>\n",
       "    </tr>\n",
       "  </thead>\n",
       "  <tbody>\n",
       "    <tr>\n",
       "      <th>count</th>\n",
       "      <td>1.040000e+02</td>\n",
       "      <td>64.000000</td>\n",
       "      <td>34.000000</td>\n",
       "      <td>25.000000</td>\n",
       "      <td>25.000000</td>\n",
       "    </tr>\n",
       "    <tr>\n",
       "      <th>mean</th>\n",
       "      <td>1.137932e+10</td>\n",
       "      <td>4.359375</td>\n",
       "      <td>3.970588</td>\n",
       "      <td>4.360000</td>\n",
       "      <td>4.200000</td>\n",
       "    </tr>\n",
       "    <tr>\n",
       "      <th>std</th>\n",
       "      <td>1.167717e+07</td>\n",
       "      <td>0.742522</td>\n",
       "      <td>1.114241</td>\n",
       "      <td>1.036018</td>\n",
       "      <td>0.866025</td>\n",
       "    </tr>\n",
       "    <tr>\n",
       "      <th>min</th>\n",
       "      <td>1.134463e+10</td>\n",
       "      <td>3.000000</td>\n",
       "      <td>1.000000</td>\n",
       "      <td>1.000000</td>\n",
       "      <td>2.000000</td>\n",
       "    </tr>\n",
       "    <tr>\n",
       "      <th>25%</th>\n",
       "      <td>1.137297e+10</td>\n",
       "      <td>4.000000</td>\n",
       "      <td>3.000000</td>\n",
       "      <td>4.000000</td>\n",
       "      <td>4.000000</td>\n",
       "    </tr>\n",
       "    <tr>\n",
       "      <th>50%</th>\n",
       "      <td>1.137310e+10</td>\n",
       "      <td>5.000000</td>\n",
       "      <td>4.000000</td>\n",
       "      <td>5.000000</td>\n",
       "      <td>4.000000</td>\n",
       "    </tr>\n",
       "    <tr>\n",
       "      <th>75%</th>\n",
       "      <td>1.138150e+10</td>\n",
       "      <td>5.000000</td>\n",
       "      <td>5.000000</td>\n",
       "      <td>5.000000</td>\n",
       "      <td>5.000000</td>\n",
       "    </tr>\n",
       "    <tr>\n",
       "      <th>max</th>\n",
       "      <td>1.141362e+10</td>\n",
       "      <td>5.000000</td>\n",
       "      <td>5.000000</td>\n",
       "      <td>5.000000</td>\n",
       "      <td>5.000000</td>\n",
       "    </tr>\n",
       "  </tbody>\n",
       "</table>\n",
       "</div>"
      ],
      "text/plain": [
       "       Respondent_ID  SC_Rating  FL_Rating  PI_Rating  YO_Rating\n",
       "count   1.040000e+02  64.000000  34.000000  25.000000  25.000000\n",
       "mean    1.137932e+10   4.359375   3.970588   4.360000   4.200000\n",
       "std     1.167717e+07   0.742522   1.114241   1.036018   0.866025\n",
       "min     1.134463e+10   3.000000   1.000000   1.000000   2.000000\n",
       "25%     1.137297e+10   4.000000   3.000000   4.000000   4.000000\n",
       "50%     1.137310e+10   5.000000   4.000000   5.000000   4.000000\n",
       "75%     1.138150e+10   5.000000   5.000000   5.000000   5.000000\n",
       "max     1.141362e+10   5.000000   5.000000   5.000000   5.000000"
      ]
     },
     "execution_count": 11,
     "metadata": {},
     "output_type": "execute_result"
    }
   ],
   "source": [
    "df.describe()"
   ]
  },
  {
   "cell_type": "markdown",
   "metadata": {},
   "source": [
    "Let's visualize the average ratings to see how the classes compare:"
   ]
  },
  {
   "cell_type": "code",
   "execution_count": 12,
   "metadata": {},
   "outputs": [
    {
     "data": {
      "image/png": "[encoded data removed]",
      "text/plain": [
       "<Figure size 432x288 with 1 Axes>"
      ]
     },
     "metadata": {
      "needs_background": "light"
     },
     "output_type": "display_data"
    }
   ],
   "source": [
    "fig, ax = plt.subplots()\n",
    "ax.bar('Step Challenge', df['SC_Rating'].mean())\n",
    "ax.bar('Fit Lab', df['FL_Rating'].mean())\n",
    "ax.bar('Pilates', df['PI_Rating'].mean())\n",
    "ax.bar('Yoga', df['YO_Rating'].mean())\n",
    "ax.grid(axis = 'y', which = 'both')\n",
    "\n",
    "for i, v in enumerate(df[['SC_Rating', 'FL_Rating',\n",
    "                          'PI_Rating', 'YO_Rating']].mean()):\n",
    "    ax.text(i,\n",
    "            v - .25,\n",
    "            str(round(v, 2)),\n",
    "            ha = 'center',\n",
    "            fontsize = 10,\n",
    "            fontweight = 'bold')\n",
    "\n",
    "ax.set_title('Average Score per Class', fontsize = 15)\n",
    "plt.show()"
   ]
  },
  {
   "cell_type": "markdown",
   "metadata": {},
   "source": [
    "It's always nice to receive positive feedback, but by taking a look at the negative feedback, we can find areas for improvement. The following function allows the input of any of the class abbreviations and a maximum score (e.g. \"I want to look at all scores less than or equal to 3 for the Pilates class\"). It will then print the text-based responses associated with those ratings."
   ]
  },
  {
   "cell_type": "code",
   "execution_count": 13,
   "metadata": {},
   "outputs": [],
   "source": [
    "def low_scores(df, class_abbrev, score):\n",
    "    '''\n",
    "    Parameters\n",
    "    ----------\n",
    "    df: input dataframe\n",
    "    class_abbrev : str, SC / FL / PI / YO\n",
    "    score: int, max score to look at\n",
    "        Prints out low scores and associated text.\n",
    "\n",
    "    Returns\n",
    "    -------\n",
    "    None.\n",
    "\n",
    "    '''\n",
    "    rating_string = class_abbrev + '_Rating'\n",
    "    text_string = class_abbrev + '_Text'\n",
    "    print('{} | {}'.format(rating_string, text_string))\n",
    "    low_ratings = df[df[rating_string] <= score]\\\n",
    "                     [[rating_string, text_string]].dropna()\n",
    "    for entry in low_ratings.values:\n",
    "        print('Rating: {} | Comment: {}'.format(int(entry[0]), entry[1]))\n",
    "    print()"
   ]
  },
  {
   "cell_type": "markdown",
   "metadata": {},
   "source": [
    "I now feed each of the classes and the step challenge into the previous function, looking at all text responses for a rating of less than or equal to 3."
   ]
  },
  {
   "cell_type": "code",
   "execution_count": 14,
   "metadata": {},
   "outputs": [
    {
     "name": "stdout",
     "output_type": "stream",
     "text": [
      "SC_Rating | SC_Text\n",
      "Rating: 3 | Comment: Lunch walking groups\n",
      "Rating: 3 | Comment: I need to learn more about them. Download the app but not sure exactly how to use interpret.\n",
      "Rating: 3 | Comment: Maybe more rewards and group walking sessions\n",
      "Rating: 3 | Comment: Promote them more prior to the start\n",
      "Rating: 3 | Comment: More prize\n",
      "\n",
      "FL_Rating | FL_Text\n",
      "Rating: 1 | Comment: fit lab classes should be flexible hours not during end of the day. May be mornings or 3 p.m. afternoon\n",
      "Rating: 3 | Comment: they should start at 5!\n",
      "Rating: 3 | Comment: Please try to include afternoon sessions\n",
      "Rating: 3 | Comment: Offer more of them earlier in the day.\n",
      "Rating: 3 | Comment: Nothing\n",
      "Rating: 3 | Comment: courtesy notice across the company not schedule meetings during the fitness classes so more people can attend\n",
      "Rating: 1 | Comment: Not good time\n",
      "Rating: 3 | Comment: Different time options\n",
      "\n",
      "PI_Rating | PI_Text\n",
      "Rating: 3 | Comment: they should start at 5!\n",
      "Rating: 3 | Comment: 2days in a week\n",
      "Rating: 1 | Comment: Schedule time not goid\n",
      "\n",
      "YO_Rating | YO_Text\n",
      "Rating: 3 | Comment: 2days in a week\n",
      "Rating: 2 | Comment: switch up instructor\n",
      "Rating: 3 | Comment: Time\n",
      "\n"
     ]
    }
   ],
   "source": [
    "for i in ['SC', 'FL', 'PI', 'YO']:\n",
    "    low_scores(df, i, 3)"
   ]
  },
  {
   "cell_type": "markdown",
   "metadata": {},
   "source": [
    "There is some really good feedback here. Class feedback seems to mostly revolve around the timing of the classes. As a committee, we have explored many different time slots for the classes over the years - it's a definite challenge to try to accommodate the schedules of an entire company. We settled on the current schedule about a year ago because we found it regularly received the highest attendance, but it may be time to revisit the class times.\n",
    "\n",
    "I also really like the step challenge responses. It looks like people would appreciate more coordinated walking groups. That is definitely something we can promote for out next challenge!"
   ]
  },
  {
   "cell_type": "markdown",
   "metadata": {},
   "source": [
    "### Natural Language Processing and Text Analysis of Gym"
   ]
  },
  {
   "cell_type": "markdown",
   "metadata": {},
   "source": [
    "I will now take a deeper dive into our on-site gym. Let's start by seeing how many people actually gave feedback on the gym:"
   ]
  },
  {
   "cell_type": "code",
   "execution_count": 15,
   "metadata": {},
   "outputs": [
    {
     "name": "stdout",
     "output_type": "stream",
     "text": [
      "Gym feedback count: 58\n"
     ]
    }
   ],
   "source": [
    "print('Gym feedback count: {}'.format(df['Gym_Text'].notna().sum()))"
   ]
  },
  {
   "cell_type": "markdown",
   "metadata": {},
   "source": [
    "What this shows is that out of 104 total responses to the survey, 58 included comments related to the gym. That's not a huge volume, but should ideally be enough to give me an overall idea of how the gym is being received."
   ]
  },
  {
   "cell_type": "markdown",
   "metadata": {},
   "source": [
    "### Latent Dirichlet Allocation"
   ]
  },
  {
   "cell_type": "markdown",
   "metadata": {},
   "source": [
    "The next function performs Latent Dirichlet Allocation (LDA) on any of the classes or the gym. LDA is a type of Natural Language Processing (NLP) that groups words which appear frequently together in a set of documents. Note that a \"document\" is any item in a corpus, so in this case I am treating each text response as a \"document\".\n",
    "\n",
    "The idea behind LDA is that these frequently occuring words represent smaller \"topics\". By finding groups of smaller topics that occur frequently together, we can build an idea of a larger \"topic\". An example would be documents that include the words \"bark\", \"puppy\" and \"leash\" would fall into the topic of \"dogs\". It's important to note that these are not clearly defined topics and require background knowledge and interpretation by the user.\n",
    "\n",
    "This function also allows the user to define how many topics they would like to explore."
   ]
  },
  {
   "cell_type": "code",
   "execution_count": 16,
   "metadata": {},
   "outputs": [],
   "source": [
    "def perform_LDA(df, class_abbrev, num_topics):\n",
    "    '''\n",
    "    Parameters\n",
    "    ----------\n",
    "    df: input dataframe\n",
    "    class_abbrev: str, SC / FL / PI / YO / Gym\n",
    "    num_topics: int, number of topics to model\n",
    "        Runs LDA on class_abbrev text.\n",
    "        \n",
    "    Returns\n",
    "    -------\n",
    "    None.\n",
    "\n",
    "    '''\n",
    "    text_string = class_abbrev + '_Text'\n",
    "    count_vec = CountVectorizer(stop_words = 'english')\n",
    "    doc_term_matrix = count_vec.fit_transform(df[text_string].\n",
    "                                              values.astype('U'))\n",
    "    print('Number of different words used across all responses: {}'.\\\n",
    "          format(doc_term_matrix.shape[1]))\n",
    "    \n",
    "    # Fit number of different topics\n",
    "    LDA = LatentDirichletAllocation(n_components = num_topics,\n",
    "                                    random_state = 42)\n",
    "    LDA.fit(doc_term_matrix)\n",
    "    \n",
    "    # Check top 10 words in order for each topic\n",
    "    for i, topic_num in enumerate(LDA.components_):\n",
    "        print('\\n--- Topic {} - Top 10 Words ---'.format(i + 1))\n",
    "        print([count_vec.get_feature_names()[j]\n",
    "               for j in LDA.components_[i].argsort()[-10:][::-1]])"
   ]
  },
  {
   "cell_type": "code",
   "execution_count": 17,
   "metadata": {},
   "outputs": [
    {
     "name": "stdout",
     "output_type": "stream",
     "text": [
      "Number of different words used across all responses: 201\n",
      "\n",
      "--- Topic 1 - Top 10 Words ---\n",
      "['gym', 'space', 'great', 'equipment', 'room', 'elliptical', 'ventilation', 'think', 'bigger', 'better']\n",
      "\n",
      "--- Topic 2 - Top 10 Words ---\n",
      "['nan', 'space', 'larger', 'bigger', 'room', 'use', 'gym', 'nice', 'add', 'time']\n",
      "\n",
      "--- Topic 3 - Top 10 Words ---\n",
      "['gym', 'like', 'weights', 'dirty', 'exercises', 'machines', 'make', 'provide', 'need', 'free']\n"
     ]
    }
   ],
   "source": [
    "perform_LDA(df, 'Gym', 3)"
   ]
  },
  {
   "cell_type": "markdown",
   "metadata": {},
   "source": [
    "With only 58 text responses, I don't have a huge corpus to sort through. But by looking at the top 10 words in each of 3 topics, I can start to piece together people's feelings on our gym. Topics 1 and 2 both seem to relate to the size of the gym - that's certainly been a common piece of feedback for our committee. Topic 3 is a bit more ambiguous, but with reference to \"dirty\" in topic 3 and \"ventilation\" in topic 1, I'd also like to explore people's responses related to cleanliness."
   ]
  },
  {
   "cell_type": "markdown",
   "metadata": {},
   "source": [
    "The `word_analysis` function below allows the user to input any list of words they want to explore as they relate to a class or the gym. Based on the topics above, I am going to look at words related to the size/space and cleanliness of the gym."
   ]
  },
  {
   "cell_type": "code",
   "execution_count": 18,
   "metadata": {},
   "outputs": [],
   "source": [
    "def word_analysis(df, class_abbrev, text_list):\n",
    "    '''\n",
    "    Parameters\n",
    "    ----------\n",
    "    df : input dataframe\n",
    "    class_abbrev : str, SC / FL / PI / YO\n",
    "    text_list: list-like, list of words to include\n",
    "        Prints comments for class_abbrev that include text_list.\n",
    "\n",
    "    Returns\n",
    "    -------\n",
    "    None.\n",
    "\n",
    "    '''\n",
    "    text_string = class_abbrev + '_Text'\n",
    "    text_ser = pd.Series(dtype = 'str')\n",
    "    for word in text_list:\n",
    "        text_ser = text_ser.append(\n",
    "            df[df[text_string].str.contains(word,\n",
    "                                            na = False,\n",
    "                                            case = False)][text_string])\n",
    "    text_ser = text_ser.drop_duplicates().reset_index(drop = True)\n",
    "    print('--- {} Responses Which Include {} ---\\n'.format(class_abbrev,\n",
    "                                                           text_list))\n",
    "    _ = [print(str(i) + '. ' + str(j)) for i, j in\n",
    "         enumerate(text_ser.values, 1)]\n",
    "    print('\\n--- {} out of {} comments mention {} ---'.\\\n",
    "          format(len(text_ser), df[text_string].notna().sum(), text_list))"
   ]
  },
  {
   "cell_type": "code",
   "execution_count": 19,
   "metadata": {},
   "outputs": [
    {
     "name": "stdout",
     "output_type": "stream",
     "text": [
      "--- Gym Responses Which Include ['space', 'big', 'large', 'room'] ---\n",
      "\n",
      "1. The location. Location with a window and bigger space. I would feel weird being in there with more than one person.   Ventilation - to avoid sweaty, stale air   Up to date and clean equipment\n",
      "2. More space!!!\n",
      "3. larger space would be better as I felt claustrophobic when I worked out in there once.\n",
      "4. Bigger space.\n",
      "5. More space\n",
      "6. Dedicate more space and relocate it to space where there are windows.  A bit more equipment would be nice.\n",
      "7. Larger space. More weights.\n",
      "8. Create more \"free\" space instead of cramming up with instruments.\n",
      "9. make the space bigger and have better ventilation.  also, a second elliptical would be AWESOME and very much appreciated.  I personally love the ARC trainer elliptical.  The equipment at the gym is really great and I love that we have this resource.  Also, maybe a water source in the room?   Thanks for providing such a great space!!!\n",
      "10. It should be larger and well vented. I believe 167 has more space to be converted in a nice GYM\n",
      "11. Maybe a larger space, more/updated machines.\n",
      "12. more space, more strength-oriented equipment\n",
      "13. Can we propose a legit gym? It looks very claustrophobic in there. If we can somehow find the space for it, it would be nice to have a larger gym area.\n",
      "14. i think the gym is great unless it gets moved to a larger space\n",
      "15. Bigger space!\n",
      "16. Need a larger space.\n",
      "17. Bigger / More room\n",
      "18. bigger room with free weights(bench)\n",
      "19. Find a bigger room to put it in.\n",
      "20. Bigger room   The aeration of the room\n",
      "21. Make it larger!\n",
      "22. I would like to see a larger gym with more equipment and dedicated showers and I would use it then--\n",
      "23. It would be great to have a little bit more room to workout (i.e. with weights, non-cardio equipment). I might consider using it more if there was more room.\n",
      "24. more room\n",
      "\n",
      "--- 24 out of 58 comments mention ['space', 'big', 'large', 'room'] ---\n"
     ]
    }
   ],
   "source": [
    "word_analysis(df, 'Gym', ['space', 'big', 'large', 'room'])"
   ]
  },
  {
   "cell_type": "markdown",
   "metadata": {},
   "source": [
    "Of the 58 comments people made out the gym, 24 of them made reference to wanting more space! I am not sure of the logistics of physically moving the gym at this point in time, but it's still really good feedback. As our company continues to grow, it will certainly be worth looking at expanding the current gym space or moving it to a larger facility."
   ]
  },
  {
   "cell_type": "code",
   "execution_count": 20,
   "metadata": {},
   "outputs": [
    {
     "name": "stdout",
     "output_type": "stream",
     "text": [
      "--- Gym Responses Which Include ['vent', 'dirt', 'sweat', 'clean'] ---\n",
      "\n",
      "1. The location. Location with a window and bigger space. I would feel weird being in there with more than one person.   Ventilation - to avoid sweaty, stale air   Up to date and clean equipment\n",
      "2. Ventilation\n",
      "3. make the space bigger and have better ventilation.  also, a second elliptical would be AWESOME and very much appreciated.  I personally love the ARC trainer elliptical.  The equipment at the gym is really great and I love that we have this resource.  Also, maybe a water source in the room?   Thanks for providing such a great space!!!\n",
      "4. It should be larger and well vented. I believe 167 has more space to be converted in a nice GYM\n",
      "5. I would appreciate women showers to be cleaned more often and for team members not to leave their dirty items in the shower along with their dirty gym wear.  I feel it is a huge health hazard.  Dirty to a point that I don't want to use gym facilities any more!  This has been communicated to facilities before but no major improvement.\n",
      "6. provide cleaning wipes :)\n",
      "\n",
      "--- 6 out of 58 comments mention ['vent', 'dirt', 'sweat', 'clean'] ---\n"
     ]
    }
   ],
   "source": [
    "word_analysis(df, 'Gym', ['vent', 'dirt', 'sweat', 'clean'])"
   ]
  },
  {
   "cell_type": "markdown",
   "metadata": {},
   "source": [
    "By looking at words specifically related to the ventilation and cleanliness of the gym, it's pretty obvious there is not enough ventilation in the current setup. That is another common piece of feedback we receive based on the design of the room - there is only one door, and as previously mentioned, the space is not very large. It's unfortunately not difficult to imagine there is poor ventilation with only one way for air to go in and out of the space. This is something we can discuss further as a committee."
   ]
  },
  {
   "cell_type": "markdown",
   "metadata": {},
   "source": [
    "### Summary"
   ]
  },
  {
   "cell_type": "markdown",
   "metadata": {},
   "source": [
    "Based on this feedback, it seems like the committee is overall doing well. Classes are generally well liked, the gym sees decent use, and many people love the step challenges. We have some clear areas of improvement for our gym and will definitely reconsider the timing of the fitness classes.\n",
    "\n",
    "In performing this analysis, I have to remember that there is a definite case of selection bias here. Not only was this survey entirely voluntary, but any employee can choose come to our fitness classes or use our gym. It would therefore make sense that only people who actually *enjoy* going would continue to attend and have an actual response to this survey. One of the larger, on-going challenges we will always face as a committee is trying to improve attendance at classes and participation in step challenges. In order to get an idea of how we could do that, we would need to run a separate survey and encourage non-attendees to respond. That is something we can and should explore in our next survey."
   ]
  }
 ],
 "metadata": {
  "kernelspec": {
   "display_name": "Python 3",
   "language": "python",
   "name": "python3"
  },
  "language_info": {
   "codemirror_mode": {
    "name": "ipython",
    "version": 3
   },
   "file_extension": ".py",
   "mimetype": "text/x-python",
   "name": "python",
   "nbconvert_exporter": "python",
   "pygments_lexer": "ipython3",
   "version": "3.7.6"
  }
 },
 "nbformat": 4,
 "nbformat_minor": 2
}
